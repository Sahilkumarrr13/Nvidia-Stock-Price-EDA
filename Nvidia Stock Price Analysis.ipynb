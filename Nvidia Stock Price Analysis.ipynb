{
 "cells": [
  {
   "cell_type": "markdown",
   "id": "b000c5ee",
   "metadata": {},
   "source": [
    "# Importing Datasets"
   ]
  },
  {
   "cell_type": "code",
   "execution_count": 1,
   "id": "3f67b08d",
   "metadata": {},
   "outputs": [],
   "source": [
    "import pandas as pd\n",
    "import numpy as np\n",
    "import matplotlib.pyplot as plt"
   ]
  },
  {
   "cell_type": "code",
   "execution_count": 2,
   "id": "c4734ebe",
   "metadata": {},
   "outputs": [],
   "source": [
    "path = r'C:\\Users\\Sahil\\Downloads\\NVDA.csv'\n",
    "df = pd.read_csv(path)"
   ]
  },
  {
   "cell_type": "code",
   "execution_count": 3,
   "id": "1a9276a1",
   "metadata": {},
   "outputs": [
    {
     "data": {
      "text/html": [
       "<div>\n",
       "<style scoped>\n",
       "    .dataframe tbody tr th:only-of-type {\n",
       "        vertical-align: middle;\n",
       "    }\n",
       "\n",
       "    .dataframe tbody tr th {\n",
       "        vertical-align: top;\n",
       "    }\n",
       "\n",
       "    .dataframe thead th {\n",
       "        text-align: right;\n",
       "    }\n",
       "</style>\n",
       "<table border=\"1\" class=\"dataframe\">\n",
       "  <thead>\n",
       "    <tr style=\"text-align: right;\">\n",
       "      <th></th>\n",
       "      <th>Date</th>\n",
       "      <th>Open</th>\n",
       "      <th>High</th>\n",
       "      <th>Low</th>\n",
       "      <th>Close</th>\n",
       "      <th>Adj Close</th>\n",
       "      <th>Volume</th>\n",
       "    </tr>\n",
       "  </thead>\n",
       "  <tbody>\n",
       "    <tr>\n",
       "      <th>0</th>\n",
       "      <td>2017-06-12</td>\n",
       "      <td>36.470001</td>\n",
       "      <td>37.924999</td>\n",
       "      <td>35.527500</td>\n",
       "      <td>37.492500</td>\n",
       "      <td>37.076328</td>\n",
       "      <td>169753200</td>\n",
       "    </tr>\n",
       "    <tr>\n",
       "      <th>1</th>\n",
       "      <td>2017-06-13</td>\n",
       "      <td>38.599998</td>\n",
       "      <td>38.692501</td>\n",
       "      <td>36.412498</td>\n",
       "      <td>37.849998</td>\n",
       "      <td>37.429855</td>\n",
       "      <td>167250400</td>\n",
       "    </tr>\n",
       "    <tr>\n",
       "      <th>2</th>\n",
       "      <td>2017-06-14</td>\n",
       "      <td>37.880001</td>\n",
       "      <td>38.514999</td>\n",
       "      <td>37.125000</td>\n",
       "      <td>37.930000</td>\n",
       "      <td>37.508972</td>\n",
       "      <td>118464000</td>\n",
       "    </tr>\n",
       "    <tr>\n",
       "      <th>3</th>\n",
       "      <td>2017-06-15</td>\n",
       "      <td>36.740002</td>\n",
       "      <td>38.400002</td>\n",
       "      <td>36.625000</td>\n",
       "      <td>38.092499</td>\n",
       "      <td>37.669662</td>\n",
       "      <td>96382400</td>\n",
       "    </tr>\n",
       "    <tr>\n",
       "      <th>4</th>\n",
       "      <td>2017-06-16</td>\n",
       "      <td>38.189999</td>\n",
       "      <td>38.674999</td>\n",
       "      <td>37.560001</td>\n",
       "      <td>37.904999</td>\n",
       "      <td>37.484249</td>\n",
       "      <td>92496000</td>\n",
       "    </tr>\n",
       "  </tbody>\n",
       "</table>\n",
       "</div>"
      ],
      "text/plain": [
       "         Date       Open       High        Low      Close  Adj Close  \\\n",
       "0  2017-06-12  36.470001  37.924999  35.527500  37.492500  37.076328   \n",
       "1  2017-06-13  38.599998  38.692501  36.412498  37.849998  37.429855   \n",
       "2  2017-06-14  37.880001  38.514999  37.125000  37.930000  37.508972   \n",
       "3  2017-06-15  36.740002  38.400002  36.625000  38.092499  37.669662   \n",
       "4  2017-06-16  38.189999  38.674999  37.560001  37.904999  37.484249   \n",
       "\n",
       "      Volume  \n",
       "0  169753200  \n",
       "1  167250400  \n",
       "2  118464000  \n",
       "3   96382400  \n",
       "4   92496000  "
      ]
     },
     "execution_count": 3,
     "metadata": {},
     "output_type": "execute_result"
    }
   ],
   "source": [
    "df.head()"
   ]
  },
  {
   "cell_type": "code",
   "execution_count": 4,
   "id": "38683326",
   "metadata": {},
   "outputs": [
    {
     "data": {
      "text/html": [
       "<div>\n",
       "<style scoped>\n",
       "    .dataframe tbody tr th:only-of-type {\n",
       "        vertical-align: middle;\n",
       "    }\n",
       "\n",
       "    .dataframe tbody tr th {\n",
       "        vertical-align: top;\n",
       "    }\n",
       "\n",
       "    .dataframe thead th {\n",
       "        text-align: right;\n",
       "    }\n",
       "</style>\n",
       "<table border=\"1\" class=\"dataframe\">\n",
       "  <thead>\n",
       "    <tr style=\"text-align: right;\">\n",
       "      <th></th>\n",
       "      <th>Date</th>\n",
       "      <th>Open</th>\n",
       "      <th>High</th>\n",
       "      <th>Low</th>\n",
       "      <th>Close</th>\n",
       "      <th>Adj Close</th>\n",
       "      <th>Volume</th>\n",
       "    </tr>\n",
       "  </thead>\n",
       "  <tbody>\n",
       "    <tr>\n",
       "      <th>1255</th>\n",
       "      <td>2022-06-06</td>\n",
       "      <td>191.389999</td>\n",
       "      <td>193.369995</td>\n",
       "      <td>185.639999</td>\n",
       "      <td>187.860001</td>\n",
       "      <td>187.820297</td>\n",
       "      <td>42240600</td>\n",
       "    </tr>\n",
       "    <tr>\n",
       "      <th>1256</th>\n",
       "      <td>2022-06-07</td>\n",
       "      <td>184.720001</td>\n",
       "      <td>190.000000</td>\n",
       "      <td>181.880005</td>\n",
       "      <td>189.259995</td>\n",
       "      <td>189.219986</td>\n",
       "      <td>38891400</td>\n",
       "    </tr>\n",
       "    <tr>\n",
       "      <th>1257</th>\n",
       "      <td>2022-06-08</td>\n",
       "      <td>187.990005</td>\n",
       "      <td>191.800003</td>\n",
       "      <td>185.350006</td>\n",
       "      <td>186.479996</td>\n",
       "      <td>186.479996</td>\n",
       "      <td>36325200</td>\n",
       "    </tr>\n",
       "    <tr>\n",
       "      <th>1258</th>\n",
       "      <td>2022-06-09</td>\n",
       "      <td>184.809998</td>\n",
       "      <td>189.330002</td>\n",
       "      <td>180.410004</td>\n",
       "      <td>180.479996</td>\n",
       "      <td>180.479996</td>\n",
       "      <td>39557400</td>\n",
       "    </tr>\n",
       "    <tr>\n",
       "      <th>1259</th>\n",
       "      <td>2022-06-10</td>\n",
       "      <td>176.000000</td>\n",
       "      <td>176.970001</td>\n",
       "      <td>168.690002</td>\n",
       "      <td>169.740005</td>\n",
       "      <td>169.740005</td>\n",
       "      <td>46524800</td>\n",
       "    </tr>\n",
       "  </tbody>\n",
       "</table>\n",
       "</div>"
      ],
      "text/plain": [
       "            Date        Open        High         Low       Close   Adj Close  \\\n",
       "1255  2022-06-06  191.389999  193.369995  185.639999  187.860001  187.820297   \n",
       "1256  2022-06-07  184.720001  190.000000  181.880005  189.259995  189.219986   \n",
       "1257  2022-06-08  187.990005  191.800003  185.350006  186.479996  186.479996   \n",
       "1258  2022-06-09  184.809998  189.330002  180.410004  180.479996  180.479996   \n",
       "1259  2022-06-10  176.000000  176.970001  168.690002  169.740005  169.740005   \n",
       "\n",
       "        Volume  \n",
       "1255  42240600  \n",
       "1256  38891400  \n",
       "1257  36325200  \n",
       "1258  39557400  \n",
       "1259  46524800  "
      ]
     },
     "execution_count": 4,
     "metadata": {},
     "output_type": "execute_result"
    }
   ],
   "source": [
    "df.tail()"
   ]
  },
  {
   "cell_type": "code",
   "execution_count": 5,
   "id": "63fdea93",
   "metadata": {},
   "outputs": [
    {
     "data": {
      "text/plain": [
       "(1260, 7)"
      ]
     },
     "execution_count": 5,
     "metadata": {},
     "output_type": "execute_result"
    }
   ],
   "source": [
    "df.shape"
   ]
  },
  {
   "cell_type": "markdown",
   "id": "21aaede8",
   "metadata": {},
   "source": [
    "## Checking if there is any data missing:"
   ]
  },
  {
   "cell_type": "code",
   "execution_count": 6,
   "id": "d41c10fb",
   "metadata": {},
   "outputs": [
    {
     "data": {
      "text/plain": [
       "Date         0\n",
       "Open         0\n",
       "High         0\n",
       "Low          0\n",
       "Close        0\n",
       "Adj Close    0\n",
       "Volume       0\n",
       "dtype: int64"
      ]
     },
     "execution_count": 6,
     "metadata": {},
     "output_type": "execute_result"
    }
   ],
   "source": [
    "df.isnull().sum()"
   ]
  },
  {
   "cell_type": "markdown",
   "id": "a3cfc565",
   "metadata": {},
   "source": [
    "## Checking for inconsistency in data types:"
   ]
  },
  {
   "cell_type": "code",
   "execution_count": 7,
   "id": "ca0c5502",
   "metadata": {},
   "outputs": [
    {
     "name": "stdout",
     "output_type": "stream",
     "text": [
      "Date          object\n",
      "Open         float64\n",
      "High         float64\n",
      "Low          float64\n",
      "Close        float64\n",
      "Adj Close    float64\n",
      "Volume         int64\n",
      "dtype: object\n"
     ]
    }
   ],
   "source": [
    "print(df.dtypes)"
   ]
  },
  {
   "cell_type": "markdown",
   "id": "f91b9df3",
   "metadata": {},
   "source": [
    "There are no missing values and all the columns types are correctly defined."
   ]
  },
  {
   "cell_type": "code",
   "execution_count": 8,
   "id": "4f9c5e1c",
   "metadata": {},
   "outputs": [
    {
     "data": {
      "text/html": [
       "<div>\n",
       "<style scoped>\n",
       "    .dataframe tbody tr th:only-of-type {\n",
       "        vertical-align: middle;\n",
       "    }\n",
       "\n",
       "    .dataframe tbody tr th {\n",
       "        vertical-align: top;\n",
       "    }\n",
       "\n",
       "    .dataframe thead th {\n",
       "        text-align: right;\n",
       "    }\n",
       "</style>\n",
       "<table border=\"1\" class=\"dataframe\">\n",
       "  <thead>\n",
       "    <tr style=\"text-align: right;\">\n",
       "      <th></th>\n",
       "      <th>Open</th>\n",
       "      <th>High</th>\n",
       "      <th>Low</th>\n",
       "      <th>Close</th>\n",
       "      <th>Adj Close</th>\n",
       "      <th>Volume</th>\n",
       "    </tr>\n",
       "  </thead>\n",
       "  <tbody>\n",
       "    <tr>\n",
       "      <th>count</th>\n",
       "      <td>1260.000000</td>\n",
       "      <td>1260.000000</td>\n",
       "      <td>1260.000000</td>\n",
       "      <td>1260.000000</td>\n",
       "      <td>1260.000000</td>\n",
       "      <td>1.260000e+03</td>\n",
       "    </tr>\n",
       "    <tr>\n",
       "      <th>mean</th>\n",
       "      <td>104.245667</td>\n",
       "      <td>106.161260</td>\n",
       "      <td>102.120244</td>\n",
       "      <td>104.188327</td>\n",
       "      <td>103.927899</td>\n",
       "      <td>4.920926e+07</td>\n",
       "    </tr>\n",
       "    <tr>\n",
       "      <th>std</th>\n",
       "      <td>74.594439</td>\n",
       "      <td>76.233616</td>\n",
       "      <td>72.639107</td>\n",
       "      <td>74.435649</td>\n",
       "      <td>74.528081</td>\n",
       "      <td>2.500132e+07</td>\n",
       "    </tr>\n",
       "    <tr>\n",
       "      <th>min</th>\n",
       "      <td>31.622499</td>\n",
       "      <td>32.494999</td>\n",
       "      <td>31.115000</td>\n",
       "      <td>31.770000</td>\n",
       "      <td>31.554657</td>\n",
       "      <td>9.788400e+06</td>\n",
       "    </tr>\n",
       "    <tr>\n",
       "      <th>25%</th>\n",
       "      <td>47.730000</td>\n",
       "      <td>48.263749</td>\n",
       "      <td>46.923750</td>\n",
       "      <td>47.699374</td>\n",
       "      <td>47.265405</td>\n",
       "      <td>3.182070e+07</td>\n",
       "    </tr>\n",
       "    <tr>\n",
       "      <th>50%</th>\n",
       "      <td>63.825001</td>\n",
       "      <td>65.187500</td>\n",
       "      <td>62.774999</td>\n",
       "      <td>63.987499</td>\n",
       "      <td>63.539827</td>\n",
       "      <td>4.384260e+07</td>\n",
       "    </tr>\n",
       "    <tr>\n",
       "      <th>75%</th>\n",
       "      <td>140.021874</td>\n",
       "      <td>142.399372</td>\n",
       "      <td>137.488751</td>\n",
       "      <td>139.945625</td>\n",
       "      <td>139.818382</td>\n",
       "      <td>6.085220e+07</td>\n",
       "    </tr>\n",
       "    <tr>\n",
       "      <th>max</th>\n",
       "      <td>335.170013</td>\n",
       "      <td>346.470001</td>\n",
       "      <td>320.359985</td>\n",
       "      <td>333.760010</td>\n",
       "      <td>333.591766</td>\n",
       "      <td>2.511528e+08</td>\n",
       "    </tr>\n",
       "  </tbody>\n",
       "</table>\n",
       "</div>"
      ],
      "text/plain": [
       "              Open         High          Low        Close    Adj Close  \\\n",
       "count  1260.000000  1260.000000  1260.000000  1260.000000  1260.000000   \n",
       "mean    104.245667   106.161260   102.120244   104.188327   103.927899   \n",
       "std      74.594439    76.233616    72.639107    74.435649    74.528081   \n",
       "min      31.622499    32.494999    31.115000    31.770000    31.554657   \n",
       "25%      47.730000    48.263749    46.923750    47.699374    47.265405   \n",
       "50%      63.825001    65.187500    62.774999    63.987499    63.539827   \n",
       "75%     140.021874   142.399372   137.488751   139.945625   139.818382   \n",
       "max     335.170013   346.470001   320.359985   333.760010   333.591766   \n",
       "\n",
       "             Volume  \n",
       "count  1.260000e+03  \n",
       "mean   4.920926e+07  \n",
       "std    2.500132e+07  \n",
       "min    9.788400e+06  \n",
       "25%    3.182070e+07  \n",
       "50%    4.384260e+07  \n",
       "75%    6.085220e+07  \n",
       "max    2.511528e+08  "
      ]
     },
     "execution_count": 8,
     "metadata": {},
     "output_type": "execute_result"
    }
   ],
   "source": [
    "df.describe()"
   ]
  },
  {
   "cell_type": "markdown",
   "id": "5e19da09",
   "metadata": {},
   "source": [
    "## The total amount of stocks sold over the year 2017 - 2022 is :"
   ]
  },
  {
   "cell_type": "code",
   "execution_count": 9,
   "id": "08433691",
   "metadata": {},
   "outputs": [
    {
     "name": "stdout",
     "output_type": "stream",
     "text": [
      "Total Volume of stocks 62003669400\n"
     ]
    }
   ],
   "source": [
    "print(\"Total Volume of stocks\", df[\"Volume\"].sum())"
   ]
  },
  {
   "cell_type": "markdown",
   "id": "8339b807",
   "metadata": {},
   "source": [
    "## Grouping the data into years & months:"
   ]
  },
  {
   "cell_type": "code",
   "execution_count": 10,
   "id": "fcc43c14",
   "metadata": {},
   "outputs": [
    {
     "data": {
      "text/plain": [
       "dtype('O')"
      ]
     },
     "execution_count": 10,
     "metadata": {},
     "output_type": "execute_result"
    }
   ],
   "source": [
    "df[\"Date\"].dtype"
   ]
  },
  {
   "cell_type": "markdown",
   "id": "8f75de3d",
   "metadata": {},
   "source": [
    "This is a type of \"Object\". We can convert it into DateTime using parsing date:"
   ]
  },
  {
   "cell_type": "code",
   "execution_count": 11,
   "id": "846360de",
   "metadata": {},
   "outputs": [],
   "source": [
    "df[\"Date\"] = pd.to_datetime(df[\"Date\"], format=\"%Y-%m-%d\")"
   ]
  },
  {
   "cell_type": "code",
   "execution_count": 12,
   "id": "21c0b255",
   "metadata": {},
   "outputs": [
    {
     "data": {
      "text/html": [
       "<div>\n",
       "<style scoped>\n",
       "    .dataframe tbody tr th:only-of-type {\n",
       "        vertical-align: middle;\n",
       "    }\n",
       "\n",
       "    .dataframe tbody tr th {\n",
       "        vertical-align: top;\n",
       "    }\n",
       "\n",
       "    .dataframe thead th {\n",
       "        text-align: right;\n",
       "    }\n",
       "</style>\n",
       "<table border=\"1\" class=\"dataframe\">\n",
       "  <thead>\n",
       "    <tr style=\"text-align: right;\">\n",
       "      <th></th>\n",
       "      <th>Date</th>\n",
       "      <th>Open</th>\n",
       "      <th>High</th>\n",
       "      <th>Low</th>\n",
       "      <th>Close</th>\n",
       "      <th>Adj Close</th>\n",
       "      <th>Volume</th>\n",
       "    </tr>\n",
       "  </thead>\n",
       "  <tbody>\n",
       "    <tr>\n",
       "      <th>0</th>\n",
       "      <td>2017-06-12</td>\n",
       "      <td>36.470001</td>\n",
       "      <td>37.924999</td>\n",
       "      <td>35.527500</td>\n",
       "      <td>37.492500</td>\n",
       "      <td>37.076328</td>\n",
       "      <td>169753200</td>\n",
       "    </tr>\n",
       "    <tr>\n",
       "      <th>1</th>\n",
       "      <td>2017-06-13</td>\n",
       "      <td>38.599998</td>\n",
       "      <td>38.692501</td>\n",
       "      <td>36.412498</td>\n",
       "      <td>37.849998</td>\n",
       "      <td>37.429855</td>\n",
       "      <td>167250400</td>\n",
       "    </tr>\n",
       "    <tr>\n",
       "      <th>2</th>\n",
       "      <td>2017-06-14</td>\n",
       "      <td>37.880001</td>\n",
       "      <td>38.514999</td>\n",
       "      <td>37.125000</td>\n",
       "      <td>37.930000</td>\n",
       "      <td>37.508972</td>\n",
       "      <td>118464000</td>\n",
       "    </tr>\n",
       "    <tr>\n",
       "      <th>3</th>\n",
       "      <td>2017-06-15</td>\n",
       "      <td>36.740002</td>\n",
       "      <td>38.400002</td>\n",
       "      <td>36.625000</td>\n",
       "      <td>38.092499</td>\n",
       "      <td>37.669662</td>\n",
       "      <td>96382400</td>\n",
       "    </tr>\n",
       "    <tr>\n",
       "      <th>4</th>\n",
       "      <td>2017-06-16</td>\n",
       "      <td>38.189999</td>\n",
       "      <td>38.674999</td>\n",
       "      <td>37.560001</td>\n",
       "      <td>37.904999</td>\n",
       "      <td>37.484249</td>\n",
       "      <td>92496000</td>\n",
       "    </tr>\n",
       "    <tr>\n",
       "      <th>...</th>\n",
       "      <td>...</td>\n",
       "      <td>...</td>\n",
       "      <td>...</td>\n",
       "      <td>...</td>\n",
       "      <td>...</td>\n",
       "      <td>...</td>\n",
       "      <td>...</td>\n",
       "    </tr>\n",
       "    <tr>\n",
       "      <th>1255</th>\n",
       "      <td>2022-06-06</td>\n",
       "      <td>191.389999</td>\n",
       "      <td>193.369995</td>\n",
       "      <td>185.639999</td>\n",
       "      <td>187.860001</td>\n",
       "      <td>187.820297</td>\n",
       "      <td>42240600</td>\n",
       "    </tr>\n",
       "    <tr>\n",
       "      <th>1256</th>\n",
       "      <td>2022-06-07</td>\n",
       "      <td>184.720001</td>\n",
       "      <td>190.000000</td>\n",
       "      <td>181.880005</td>\n",
       "      <td>189.259995</td>\n",
       "      <td>189.219986</td>\n",
       "      <td>38891400</td>\n",
       "    </tr>\n",
       "    <tr>\n",
       "      <th>1257</th>\n",
       "      <td>2022-06-08</td>\n",
       "      <td>187.990005</td>\n",
       "      <td>191.800003</td>\n",
       "      <td>185.350006</td>\n",
       "      <td>186.479996</td>\n",
       "      <td>186.479996</td>\n",
       "      <td>36325200</td>\n",
       "    </tr>\n",
       "    <tr>\n",
       "      <th>1258</th>\n",
       "      <td>2022-06-09</td>\n",
       "      <td>184.809998</td>\n",
       "      <td>189.330002</td>\n",
       "      <td>180.410004</td>\n",
       "      <td>180.479996</td>\n",
       "      <td>180.479996</td>\n",
       "      <td>39557400</td>\n",
       "    </tr>\n",
       "    <tr>\n",
       "      <th>1259</th>\n",
       "      <td>2022-06-10</td>\n",
       "      <td>176.000000</td>\n",
       "      <td>176.970001</td>\n",
       "      <td>168.690002</td>\n",
       "      <td>169.740005</td>\n",
       "      <td>169.740005</td>\n",
       "      <td>46524800</td>\n",
       "    </tr>\n",
       "  </tbody>\n",
       "</table>\n",
       "<p>1260 rows × 7 columns</p>\n",
       "</div>"
      ],
      "text/plain": [
       "           Date        Open        High         Low       Close   Adj Close  \\\n",
       "0    2017-06-12   36.470001   37.924999   35.527500   37.492500   37.076328   \n",
       "1    2017-06-13   38.599998   38.692501   36.412498   37.849998   37.429855   \n",
       "2    2017-06-14   37.880001   38.514999   37.125000   37.930000   37.508972   \n",
       "3    2017-06-15   36.740002   38.400002   36.625000   38.092499   37.669662   \n",
       "4    2017-06-16   38.189999   38.674999   37.560001   37.904999   37.484249   \n",
       "...         ...         ...         ...         ...         ...         ...   \n",
       "1255 2022-06-06  191.389999  193.369995  185.639999  187.860001  187.820297   \n",
       "1256 2022-06-07  184.720001  190.000000  181.880005  189.259995  189.219986   \n",
       "1257 2022-06-08  187.990005  191.800003  185.350006  186.479996  186.479996   \n",
       "1258 2022-06-09  184.809998  189.330002  180.410004  180.479996  180.479996   \n",
       "1259 2022-06-10  176.000000  176.970001  168.690002  169.740005  169.740005   \n",
       "\n",
       "         Volume  \n",
       "0     169753200  \n",
       "1     167250400  \n",
       "2     118464000  \n",
       "3      96382400  \n",
       "4      92496000  \n",
       "...         ...  \n",
       "1255   42240600  \n",
       "1256   38891400  \n",
       "1257   36325200  \n",
       "1258   39557400  \n",
       "1259   46524800  \n",
       "\n",
       "[1260 rows x 7 columns]"
      ]
     },
     "execution_count": 12,
     "metadata": {},
     "output_type": "execute_result"
    }
   ],
   "source": [
    "df"
   ]
  },
  {
   "cell_type": "code",
   "execution_count": 13,
   "id": "2f09cd1b",
   "metadata": {},
   "outputs": [
    {
     "data": {
      "text/html": [
       "<div>\n",
       "<style scoped>\n",
       "    .dataframe tbody tr th:only-of-type {\n",
       "        vertical-align: middle;\n",
       "    }\n",
       "\n",
       "    .dataframe tbody tr th {\n",
       "        vertical-align: top;\n",
       "    }\n",
       "\n",
       "    .dataframe thead th {\n",
       "        text-align: right;\n",
       "    }\n",
       "</style>\n",
       "<table border=\"1\" class=\"dataframe\">\n",
       "  <thead>\n",
       "    <tr style=\"text-align: right;\">\n",
       "      <th></th>\n",
       "      <th>Date</th>\n",
       "      <th>Open</th>\n",
       "      <th>High</th>\n",
       "      <th>Low</th>\n",
       "      <th>Close</th>\n",
       "      <th>Adj Close</th>\n",
       "      <th>Volume</th>\n",
       "      <th>Years</th>\n",
       "      <th>Months</th>\n",
       "    </tr>\n",
       "  </thead>\n",
       "  <tbody>\n",
       "    <tr>\n",
       "      <th>0</th>\n",
       "      <td>2017-06-12</td>\n",
       "      <td>36.470001</td>\n",
       "      <td>37.924999</td>\n",
       "      <td>35.527500</td>\n",
       "      <td>37.492500</td>\n",
       "      <td>37.076328</td>\n",
       "      <td>169753200</td>\n",
       "      <td>2017</td>\n",
       "      <td>6</td>\n",
       "    </tr>\n",
       "    <tr>\n",
       "      <th>1</th>\n",
       "      <td>2017-06-13</td>\n",
       "      <td>38.599998</td>\n",
       "      <td>38.692501</td>\n",
       "      <td>36.412498</td>\n",
       "      <td>37.849998</td>\n",
       "      <td>37.429855</td>\n",
       "      <td>167250400</td>\n",
       "      <td>2017</td>\n",
       "      <td>6</td>\n",
       "    </tr>\n",
       "    <tr>\n",
       "      <th>2</th>\n",
       "      <td>2017-06-14</td>\n",
       "      <td>37.880001</td>\n",
       "      <td>38.514999</td>\n",
       "      <td>37.125000</td>\n",
       "      <td>37.930000</td>\n",
       "      <td>37.508972</td>\n",
       "      <td>118464000</td>\n",
       "      <td>2017</td>\n",
       "      <td>6</td>\n",
       "    </tr>\n",
       "    <tr>\n",
       "      <th>3</th>\n",
       "      <td>2017-06-15</td>\n",
       "      <td>36.740002</td>\n",
       "      <td>38.400002</td>\n",
       "      <td>36.625000</td>\n",
       "      <td>38.092499</td>\n",
       "      <td>37.669662</td>\n",
       "      <td>96382400</td>\n",
       "      <td>2017</td>\n",
       "      <td>6</td>\n",
       "    </tr>\n",
       "    <tr>\n",
       "      <th>4</th>\n",
       "      <td>2017-06-16</td>\n",
       "      <td>38.189999</td>\n",
       "      <td>38.674999</td>\n",
       "      <td>37.560001</td>\n",
       "      <td>37.904999</td>\n",
       "      <td>37.484249</td>\n",
       "      <td>92496000</td>\n",
       "      <td>2017</td>\n",
       "      <td>6</td>\n",
       "    </tr>\n",
       "    <tr>\n",
       "      <th>...</th>\n",
       "      <td>...</td>\n",
       "      <td>...</td>\n",
       "      <td>...</td>\n",
       "      <td>...</td>\n",
       "      <td>...</td>\n",
       "      <td>...</td>\n",
       "      <td>...</td>\n",
       "      <td>...</td>\n",
       "      <td>...</td>\n",
       "    </tr>\n",
       "    <tr>\n",
       "      <th>1255</th>\n",
       "      <td>2022-06-06</td>\n",
       "      <td>191.389999</td>\n",
       "      <td>193.369995</td>\n",
       "      <td>185.639999</td>\n",
       "      <td>187.860001</td>\n",
       "      <td>187.820297</td>\n",
       "      <td>42240600</td>\n",
       "      <td>2022</td>\n",
       "      <td>6</td>\n",
       "    </tr>\n",
       "    <tr>\n",
       "      <th>1256</th>\n",
       "      <td>2022-06-07</td>\n",
       "      <td>184.720001</td>\n",
       "      <td>190.000000</td>\n",
       "      <td>181.880005</td>\n",
       "      <td>189.259995</td>\n",
       "      <td>189.219986</td>\n",
       "      <td>38891400</td>\n",
       "      <td>2022</td>\n",
       "      <td>6</td>\n",
       "    </tr>\n",
       "    <tr>\n",
       "      <th>1257</th>\n",
       "      <td>2022-06-08</td>\n",
       "      <td>187.990005</td>\n",
       "      <td>191.800003</td>\n",
       "      <td>185.350006</td>\n",
       "      <td>186.479996</td>\n",
       "      <td>186.479996</td>\n",
       "      <td>36325200</td>\n",
       "      <td>2022</td>\n",
       "      <td>6</td>\n",
       "    </tr>\n",
       "    <tr>\n",
       "      <th>1258</th>\n",
       "      <td>2022-06-09</td>\n",
       "      <td>184.809998</td>\n",
       "      <td>189.330002</td>\n",
       "      <td>180.410004</td>\n",
       "      <td>180.479996</td>\n",
       "      <td>180.479996</td>\n",
       "      <td>39557400</td>\n",
       "      <td>2022</td>\n",
       "      <td>6</td>\n",
       "    </tr>\n",
       "    <tr>\n",
       "      <th>1259</th>\n",
       "      <td>2022-06-10</td>\n",
       "      <td>176.000000</td>\n",
       "      <td>176.970001</td>\n",
       "      <td>168.690002</td>\n",
       "      <td>169.740005</td>\n",
       "      <td>169.740005</td>\n",
       "      <td>46524800</td>\n",
       "      <td>2022</td>\n",
       "      <td>6</td>\n",
       "    </tr>\n",
       "  </tbody>\n",
       "</table>\n",
       "<p>1260 rows × 9 columns</p>\n",
       "</div>"
      ],
      "text/plain": [
       "           Date        Open        High         Low       Close   Adj Close  \\\n",
       "0    2017-06-12   36.470001   37.924999   35.527500   37.492500   37.076328   \n",
       "1    2017-06-13   38.599998   38.692501   36.412498   37.849998   37.429855   \n",
       "2    2017-06-14   37.880001   38.514999   37.125000   37.930000   37.508972   \n",
       "3    2017-06-15   36.740002   38.400002   36.625000   38.092499   37.669662   \n",
       "4    2017-06-16   38.189999   38.674999   37.560001   37.904999   37.484249   \n",
       "...         ...         ...         ...         ...         ...         ...   \n",
       "1255 2022-06-06  191.389999  193.369995  185.639999  187.860001  187.820297   \n",
       "1256 2022-06-07  184.720001  190.000000  181.880005  189.259995  189.219986   \n",
       "1257 2022-06-08  187.990005  191.800003  185.350006  186.479996  186.479996   \n",
       "1258 2022-06-09  184.809998  189.330002  180.410004  180.479996  180.479996   \n",
       "1259 2022-06-10  176.000000  176.970001  168.690002  169.740005  169.740005   \n",
       "\n",
       "         Volume  Years  Months  \n",
       "0     169753200   2017       6  \n",
       "1     167250400   2017       6  \n",
       "2     118464000   2017       6  \n",
       "3      96382400   2017       6  \n",
       "4      92496000   2017       6  \n",
       "...         ...    ...     ...  \n",
       "1255   42240600   2022       6  \n",
       "1256   38891400   2022       6  \n",
       "1257   36325200   2022       6  \n",
       "1258   39557400   2022       6  \n",
       "1259   46524800   2022       6  \n",
       "\n",
       "[1260 rows x 9 columns]"
      ]
     },
     "execution_count": 13,
     "metadata": {},
     "output_type": "execute_result"
    }
   ],
   "source": [
    "df[\"Years\"] = df[\"Date\"].dt.year\n",
    "df[\"Months\"] = df[\"Date\"].dt.month\n",
    "df"
   ]
  },
  {
   "cell_type": "markdown",
   "id": "7454b8de",
   "metadata": {},
   "source": [
    "Rearranging the Columns:"
   ]
  },
  {
   "cell_type": "code",
   "execution_count": 14,
   "id": "d9da2a52",
   "metadata": {},
   "outputs": [
    {
     "data": {
      "text/html": [
       "<div>\n",
       "<style scoped>\n",
       "    .dataframe tbody tr th:only-of-type {\n",
       "        vertical-align: middle;\n",
       "    }\n",
       "\n",
       "    .dataframe tbody tr th {\n",
       "        vertical-align: top;\n",
       "    }\n",
       "\n",
       "    .dataframe thead th {\n",
       "        text-align: right;\n",
       "    }\n",
       "</style>\n",
       "<table border=\"1\" class=\"dataframe\">\n",
       "  <thead>\n",
       "    <tr style=\"text-align: right;\">\n",
       "      <th></th>\n",
       "      <th>Date</th>\n",
       "      <th>Years</th>\n",
       "      <th>Months</th>\n",
       "      <th>Open</th>\n",
       "      <th>High</th>\n",
       "      <th>Low</th>\n",
       "      <th>Close</th>\n",
       "      <th>Adj Close</th>\n",
       "      <th>Volume</th>\n",
       "    </tr>\n",
       "  </thead>\n",
       "  <tbody>\n",
       "    <tr>\n",
       "      <th>0</th>\n",
       "      <td>2017-06-12</td>\n",
       "      <td>2017</td>\n",
       "      <td>6</td>\n",
       "      <td>36.470001</td>\n",
       "      <td>37.924999</td>\n",
       "      <td>35.527500</td>\n",
       "      <td>37.492500</td>\n",
       "      <td>37.076328</td>\n",
       "      <td>169753200</td>\n",
       "    </tr>\n",
       "    <tr>\n",
       "      <th>1</th>\n",
       "      <td>2017-06-13</td>\n",
       "      <td>2017</td>\n",
       "      <td>6</td>\n",
       "      <td>38.599998</td>\n",
       "      <td>38.692501</td>\n",
       "      <td>36.412498</td>\n",
       "      <td>37.849998</td>\n",
       "      <td>37.429855</td>\n",
       "      <td>167250400</td>\n",
       "    </tr>\n",
       "    <tr>\n",
       "      <th>2</th>\n",
       "      <td>2017-06-14</td>\n",
       "      <td>2017</td>\n",
       "      <td>6</td>\n",
       "      <td>37.880001</td>\n",
       "      <td>38.514999</td>\n",
       "      <td>37.125000</td>\n",
       "      <td>37.930000</td>\n",
       "      <td>37.508972</td>\n",
       "      <td>118464000</td>\n",
       "    </tr>\n",
       "    <tr>\n",
       "      <th>3</th>\n",
       "      <td>2017-06-15</td>\n",
       "      <td>2017</td>\n",
       "      <td>6</td>\n",
       "      <td>36.740002</td>\n",
       "      <td>38.400002</td>\n",
       "      <td>36.625000</td>\n",
       "      <td>38.092499</td>\n",
       "      <td>37.669662</td>\n",
       "      <td>96382400</td>\n",
       "    </tr>\n",
       "    <tr>\n",
       "      <th>4</th>\n",
       "      <td>2017-06-16</td>\n",
       "      <td>2017</td>\n",
       "      <td>6</td>\n",
       "      <td>38.189999</td>\n",
       "      <td>38.674999</td>\n",
       "      <td>37.560001</td>\n",
       "      <td>37.904999</td>\n",
       "      <td>37.484249</td>\n",
       "      <td>92496000</td>\n",
       "    </tr>\n",
       "    <tr>\n",
       "      <th>...</th>\n",
       "      <td>...</td>\n",
       "      <td>...</td>\n",
       "      <td>...</td>\n",
       "      <td>...</td>\n",
       "      <td>...</td>\n",
       "      <td>...</td>\n",
       "      <td>...</td>\n",
       "      <td>...</td>\n",
       "      <td>...</td>\n",
       "    </tr>\n",
       "    <tr>\n",
       "      <th>1255</th>\n",
       "      <td>2022-06-06</td>\n",
       "      <td>2022</td>\n",
       "      <td>6</td>\n",
       "      <td>191.389999</td>\n",
       "      <td>193.369995</td>\n",
       "      <td>185.639999</td>\n",
       "      <td>187.860001</td>\n",
       "      <td>187.820297</td>\n",
       "      <td>42240600</td>\n",
       "    </tr>\n",
       "    <tr>\n",
       "      <th>1256</th>\n",
       "      <td>2022-06-07</td>\n",
       "      <td>2022</td>\n",
       "      <td>6</td>\n",
       "      <td>184.720001</td>\n",
       "      <td>190.000000</td>\n",
       "      <td>181.880005</td>\n",
       "      <td>189.259995</td>\n",
       "      <td>189.219986</td>\n",
       "      <td>38891400</td>\n",
       "    </tr>\n",
       "    <tr>\n",
       "      <th>1257</th>\n",
       "      <td>2022-06-08</td>\n",
       "      <td>2022</td>\n",
       "      <td>6</td>\n",
       "      <td>187.990005</td>\n",
       "      <td>191.800003</td>\n",
       "      <td>185.350006</td>\n",
       "      <td>186.479996</td>\n",
       "      <td>186.479996</td>\n",
       "      <td>36325200</td>\n",
       "    </tr>\n",
       "    <tr>\n",
       "      <th>1258</th>\n",
       "      <td>2022-06-09</td>\n",
       "      <td>2022</td>\n",
       "      <td>6</td>\n",
       "      <td>184.809998</td>\n",
       "      <td>189.330002</td>\n",
       "      <td>180.410004</td>\n",
       "      <td>180.479996</td>\n",
       "      <td>180.479996</td>\n",
       "      <td>39557400</td>\n",
       "    </tr>\n",
       "    <tr>\n",
       "      <th>1259</th>\n",
       "      <td>2022-06-10</td>\n",
       "      <td>2022</td>\n",
       "      <td>6</td>\n",
       "      <td>176.000000</td>\n",
       "      <td>176.970001</td>\n",
       "      <td>168.690002</td>\n",
       "      <td>169.740005</td>\n",
       "      <td>169.740005</td>\n",
       "      <td>46524800</td>\n",
       "    </tr>\n",
       "  </tbody>\n",
       "</table>\n",
       "<p>1260 rows × 9 columns</p>\n",
       "</div>"
      ],
      "text/plain": [
       "           Date  Years  Months        Open        High         Low  \\\n",
       "0    2017-06-12   2017       6   36.470001   37.924999   35.527500   \n",
       "1    2017-06-13   2017       6   38.599998   38.692501   36.412498   \n",
       "2    2017-06-14   2017       6   37.880001   38.514999   37.125000   \n",
       "3    2017-06-15   2017       6   36.740002   38.400002   36.625000   \n",
       "4    2017-06-16   2017       6   38.189999   38.674999   37.560001   \n",
       "...         ...    ...     ...         ...         ...         ...   \n",
       "1255 2022-06-06   2022       6  191.389999  193.369995  185.639999   \n",
       "1256 2022-06-07   2022       6  184.720001  190.000000  181.880005   \n",
       "1257 2022-06-08   2022       6  187.990005  191.800003  185.350006   \n",
       "1258 2022-06-09   2022       6  184.809998  189.330002  180.410004   \n",
       "1259 2022-06-10   2022       6  176.000000  176.970001  168.690002   \n",
       "\n",
       "           Close   Adj Close     Volume  \n",
       "0      37.492500   37.076328  169753200  \n",
       "1      37.849998   37.429855  167250400  \n",
       "2      37.930000   37.508972  118464000  \n",
       "3      38.092499   37.669662   96382400  \n",
       "4      37.904999   37.484249   92496000  \n",
       "...          ...         ...        ...  \n",
       "1255  187.860001  187.820297   42240600  \n",
       "1256  189.259995  189.219986   38891400  \n",
       "1257  186.479996  186.479996   36325200  \n",
       "1258  180.479996  180.479996   39557400  \n",
       "1259  169.740005  169.740005   46524800  \n",
       "\n",
       "[1260 rows x 9 columns]"
      ]
     },
     "execution_count": 14,
     "metadata": {},
     "output_type": "execute_result"
    }
   ],
   "source": [
    "year = df.pop(\"Years\")\n",
    "month = df.pop(\"Months\")\n",
    "df.insert(1, \"Years\", year)\n",
    "df.insert(2, \"Months\", month)\n",
    "df"
   ]
  },
  {
   "cell_type": "code",
   "execution_count": 15,
   "id": "a6b9a928",
   "metadata": {},
   "outputs": [
    {
     "data": {
      "text/html": [
       "<div>\n",
       "<style scoped>\n",
       "    .dataframe tbody tr th:only-of-type {\n",
       "        vertical-align: middle;\n",
       "    }\n",
       "\n",
       "    .dataframe tbody tr th {\n",
       "        vertical-align: top;\n",
       "    }\n",
       "\n",
       "    .dataframe thead th {\n",
       "        text-align: right;\n",
       "    }\n",
       "</style>\n",
       "<table border=\"1\" class=\"dataframe\">\n",
       "  <thead>\n",
       "    <tr style=\"text-align: right;\">\n",
       "      <th></th>\n",
       "      <th>Years</th>\n",
       "      <th>Open</th>\n",
       "      <th>High</th>\n",
       "      <th>Low</th>\n",
       "      <th>Close</th>\n",
       "      <th>Adj Close</th>\n",
       "      <th>Volume</th>\n",
       "    </tr>\n",
       "  </thead>\n",
       "  <tbody>\n",
       "    <tr>\n",
       "      <th>0</th>\n",
       "      <td>2017</td>\n",
       "      <td>44.862943</td>\n",
       "      <td>45.372979</td>\n",
       "      <td>44.163883</td>\n",
       "      <td>44.819273</td>\n",
       "      <td>44.354749</td>\n",
       "      <td>6.627211e+07</td>\n",
       "    </tr>\n",
       "    <tr>\n",
       "      <th>1</th>\n",
       "      <td>2018</td>\n",
       "      <td>58.182002</td>\n",
       "      <td>59.091644</td>\n",
       "      <td>57.129831</td>\n",
       "      <td>58.096036</td>\n",
       "      <td>57.606849</td>\n",
       "      <td>5.480861e+07</td>\n",
       "    </tr>\n",
       "    <tr>\n",
       "      <th>2</th>\n",
       "      <td>2019</td>\n",
       "      <td>43.610050</td>\n",
       "      <td>44.252847</td>\n",
       "      <td>43.008095</td>\n",
       "      <td>43.646925</td>\n",
       "      <td>43.441381</td>\n",
       "      <td>4.563997e+07</td>\n",
       "    </tr>\n",
       "    <tr>\n",
       "      <th>3</th>\n",
       "      <td>2020</td>\n",
       "      <td>98.879723</td>\n",
       "      <td>100.637490</td>\n",
       "      <td>96.978409</td>\n",
       "      <td>98.907085</td>\n",
       "      <td>98.721872</td>\n",
       "      <td>4.808553e+07</td>\n",
       "    </tr>\n",
       "    <tr>\n",
       "      <th>4</th>\n",
       "      <td>2021</td>\n",
       "      <td>195.163174</td>\n",
       "      <td>198.509494</td>\n",
       "      <td>191.520218</td>\n",
       "      <td>195.219931</td>\n",
       "      <td>195.083891</td>\n",
       "      <td>3.595588e+07</td>\n",
       "    </tr>\n",
       "    <tr>\n",
       "      <th>5</th>\n",
       "      <td>2022</td>\n",
       "      <td>227.322162</td>\n",
       "      <td>233.299099</td>\n",
       "      <td>220.433694</td>\n",
       "      <td>226.646216</td>\n",
       "      <td>226.583884</td>\n",
       "      <td>5.562657e+07</td>\n",
       "    </tr>\n",
       "  </tbody>\n",
       "</table>\n",
       "</div>"
      ],
      "text/plain": [
       "   Years        Open        High         Low       Close   Adj Close  \\\n",
       "0   2017   44.862943   45.372979   44.163883   44.819273   44.354749   \n",
       "1   2018   58.182002   59.091644   57.129831   58.096036   57.606849   \n",
       "2   2019   43.610050   44.252847   43.008095   43.646925   43.441381   \n",
       "3   2020   98.879723  100.637490   96.978409   98.907085   98.721872   \n",
       "4   2021  195.163174  198.509494  191.520218  195.219931  195.083891   \n",
       "5   2022  227.322162  233.299099  220.433694  226.646216  226.583884   \n",
       "\n",
       "         Volume  \n",
       "0  6.627211e+07  \n",
       "1  5.480861e+07  \n",
       "2  4.563997e+07  \n",
       "3  4.808553e+07  \n",
       "4  3.595588e+07  \n",
       "5  5.562657e+07  "
      ]
     },
     "execution_count": 15,
     "metadata": {},
     "output_type": "execute_result"
    }
   ],
   "source": [
    "df_year = df.drop(\"Months\", axis=1)\n",
    "df_grouped_yearly = df_year.groupby([\"Years\"], as_index=False).mean()\n",
    "df_grouped_yearly"
   ]
  },
  {
   "cell_type": "markdown",
   "id": "fbf95fe6",
   "metadata": {},
   "source": [
    "# Per Year Analysis:"
   ]
  },
  {
   "cell_type": "markdown",
   "id": "0bada6b8",
   "metadata": {},
   "source": [
    "## -> Grouping Average price yearly & month:"
   ]
  },
  {
   "cell_type": "code",
   "execution_count": 77,
   "id": "24508ee7",
   "metadata": {},
   "outputs": [
    {
     "data": {
      "text/html": [
       "<div>\n",
       "<style scoped>\n",
       "    .dataframe tbody tr th:only-of-type {\n",
       "        vertical-align: middle;\n",
       "    }\n",
       "\n",
       "    .dataframe tbody tr th {\n",
       "        vertical-align: top;\n",
       "    }\n",
       "\n",
       "    .dataframe thead th {\n",
       "        text-align: right;\n",
       "    }\n",
       "</style>\n",
       "<table border=\"1\" class=\"dataframe\">\n",
       "  <thead>\n",
       "    <tr style=\"text-align: right;\">\n",
       "      <th></th>\n",
       "      <th>Years</th>\n",
       "      <th>Months</th>\n",
       "      <th>Open</th>\n",
       "      <th>High</th>\n",
       "      <th>Low</th>\n",
       "      <th>Close</th>\n",
       "      <th>Adj Close</th>\n",
       "      <th>Volume</th>\n",
       "    </tr>\n",
       "  </thead>\n",
       "  <tbody>\n",
       "    <tr>\n",
       "      <th>0</th>\n",
       "      <td>2017</td>\n",
       "      <td>6</td>\n",
       "      <td>38.242501</td>\n",
       "      <td>38.772667</td>\n",
       "      <td>37.291833</td>\n",
       "      <td>38.081333</td>\n",
       "      <td>37.658624</td>\n",
       "      <td>1.027422e+08</td>\n",
       "    </tr>\n",
       "    <tr>\n",
       "      <th>1</th>\n",
       "      <td>2017</td>\n",
       "      <td>7</td>\n",
       "      <td>39.782625</td>\n",
       "      <td>40.383375</td>\n",
       "      <td>39.146750</td>\n",
       "      <td>39.857500</td>\n",
       "      <td>39.415074</td>\n",
       "      <td>7.745508e+07</td>\n",
       "    </tr>\n",
       "    <tr>\n",
       "      <th>2</th>\n",
       "      <td>2017</td>\n",
       "      <td>8</td>\n",
       "      <td>41.311196</td>\n",
       "      <td>41.813587</td>\n",
       "      <td>40.699565</td>\n",
       "      <td>41.335000</td>\n",
       "      <td>40.888685</td>\n",
       "      <td>6.403572e+07</td>\n",
       "    </tr>\n",
       "    <tr>\n",
       "      <th>3</th>\n",
       "      <td>2017</td>\n",
       "      <td>9</td>\n",
       "      <td>43.612000</td>\n",
       "      <td>44.133250</td>\n",
       "      <td>42.992625</td>\n",
       "      <td>43.557250</td>\n",
       "      <td>43.111677</td>\n",
       "      <td>7.223668e+07</td>\n",
       "    </tr>\n",
       "    <tr>\n",
       "      <th>4</th>\n",
       "      <td>2017</td>\n",
       "      <td>10</td>\n",
       "      <td>48.011136</td>\n",
       "      <td>48.505113</td>\n",
       "      <td>47.515682</td>\n",
       "      <td>48.151250</td>\n",
       "      <td>47.658681</td>\n",
       "      <td>5.192120e+07</td>\n",
       "    </tr>\n",
       "    <tr>\n",
       "      <th>...</th>\n",
       "      <td>...</td>\n",
       "      <td>...</td>\n",
       "      <td>...</td>\n",
       "      <td>...</td>\n",
       "      <td>...</td>\n",
       "      <td>...</td>\n",
       "      <td>...</td>\n",
       "      <td>...</td>\n",
       "    </tr>\n",
       "    <tr>\n",
       "      <th>56</th>\n",
       "      <td>2022</td>\n",
       "      <td>2</td>\n",
       "      <td>245.577368</td>\n",
       "      <td>252.927370</td>\n",
       "      <td>238.630526</td>\n",
       "      <td>246.289473</td>\n",
       "      <td>246.195470</td>\n",
       "      <td>5.602247e+07</td>\n",
       "    </tr>\n",
       "    <tr>\n",
       "      <th>57</th>\n",
       "      <td>2022</td>\n",
       "      <td>3</td>\n",
       "      <td>247.614783</td>\n",
       "      <td>254.034347</td>\n",
       "      <td>241.559567</td>\n",
       "      <td>248.516521</td>\n",
       "      <td>248.462256</td>\n",
       "      <td>5.062869e+07</td>\n",
       "    </tr>\n",
       "    <tr>\n",
       "      <th>58</th>\n",
       "      <td>2022</td>\n",
       "      <td>4</td>\n",
       "      <td>223.484499</td>\n",
       "      <td>227.856998</td>\n",
       "      <td>215.479501</td>\n",
       "      <td>219.607001</td>\n",
       "      <td>219.560584</td>\n",
       "      <td>5.557195e+07</td>\n",
       "    </tr>\n",
       "    <tr>\n",
       "      <th>59</th>\n",
       "      <td>2022</td>\n",
       "      <td>5</td>\n",
       "      <td>177.193811</td>\n",
       "      <td>183.013333</td>\n",
       "      <td>171.366189</td>\n",
       "      <td>177.905714</td>\n",
       "      <td>177.868112</td>\n",
       "      <td>6.587153e+07</td>\n",
       "    </tr>\n",
       "    <tr>\n",
       "      <th>60</th>\n",
       "      <td>2022</td>\n",
       "      <td>6</td>\n",
       "      <td>185.736252</td>\n",
       "      <td>190.188751</td>\n",
       "      <td>181.298752</td>\n",
       "      <td>185.017498</td>\n",
       "      <td>184.992571</td>\n",
       "      <td>4.783805e+07</td>\n",
       "    </tr>\n",
       "  </tbody>\n",
       "</table>\n",
       "<p>61 rows × 8 columns</p>\n",
       "</div>"
      ],
      "text/plain": [
       "    Years  Months        Open        High         Low       Close   Adj Close  \\\n",
       "0    2017       6   38.242501   38.772667   37.291833   38.081333   37.658624   \n",
       "1    2017       7   39.782625   40.383375   39.146750   39.857500   39.415074   \n",
       "2    2017       8   41.311196   41.813587   40.699565   41.335000   40.888685   \n",
       "3    2017       9   43.612000   44.133250   42.992625   43.557250   43.111677   \n",
       "4    2017      10   48.011136   48.505113   47.515682   48.151250   47.658681   \n",
       "..    ...     ...         ...         ...         ...         ...         ...   \n",
       "56   2022       2  245.577368  252.927370  238.630526  246.289473  246.195470   \n",
       "57   2022       3  247.614783  254.034347  241.559567  248.516521  248.462256   \n",
       "58   2022       4  223.484499  227.856998  215.479501  219.607001  219.560584   \n",
       "59   2022       5  177.193811  183.013333  171.366189  177.905714  177.868112   \n",
       "60   2022       6  185.736252  190.188751  181.298752  185.017498  184.992571   \n",
       "\n",
       "          Volume  \n",
       "0   1.027422e+08  \n",
       "1   7.745508e+07  \n",
       "2   6.403572e+07  \n",
       "3   7.223668e+07  \n",
       "4   5.192120e+07  \n",
       "..           ...  \n",
       "56  5.602247e+07  \n",
       "57  5.062869e+07  \n",
       "58  5.557195e+07  \n",
       "59  6.587153e+07  \n",
       "60  4.783805e+07  \n",
       "\n",
       "[61 rows x 8 columns]"
      ]
     },
     "execution_count": 77,
     "metadata": {},
     "output_type": "execute_result"
    }
   ],
   "source": [
    "df_month = df.groupby([\"Years\", \"Months\"], as_index=False).mean()\n",
    "df_month"
   ]
  },
  {
   "cell_type": "markdown",
   "id": "55d9cf18",
   "metadata": {},
   "source": [
    "## Average Opening and Closing price per year:"
   ]
  },
  {
   "cell_type": "code",
   "execution_count": 16,
   "id": "de9c5ce4",
   "metadata": {},
   "outputs": [
    {
     "data": {
      "text/html": [
       "<div>\n",
       "<style scoped>\n",
       "    .dataframe tbody tr th:only-of-type {\n",
       "        vertical-align: middle;\n",
       "    }\n",
       "\n",
       "    .dataframe tbody tr th {\n",
       "        vertical-align: top;\n",
       "    }\n",
       "\n",
       "    .dataframe thead th {\n",
       "        text-align: right;\n",
       "    }\n",
       "</style>\n",
       "<table border=\"1\" class=\"dataframe\">\n",
       "  <thead>\n",
       "    <tr style=\"text-align: right;\">\n",
       "      <th></th>\n",
       "      <th>Years</th>\n",
       "      <th>Open</th>\n",
       "      <th>Close</th>\n",
       "    </tr>\n",
       "  </thead>\n",
       "  <tbody>\n",
       "    <tr>\n",
       "      <th>0</th>\n",
       "      <td>2017</td>\n",
       "      <td>44.862943</td>\n",
       "      <td>44.819273</td>\n",
       "    </tr>\n",
       "    <tr>\n",
       "      <th>1</th>\n",
       "      <td>2018</td>\n",
       "      <td>58.182002</td>\n",
       "      <td>58.096036</td>\n",
       "    </tr>\n",
       "    <tr>\n",
       "      <th>2</th>\n",
       "      <td>2019</td>\n",
       "      <td>43.610050</td>\n",
       "      <td>43.646925</td>\n",
       "    </tr>\n",
       "    <tr>\n",
       "      <th>3</th>\n",
       "      <td>2020</td>\n",
       "      <td>98.879723</td>\n",
       "      <td>98.907085</td>\n",
       "    </tr>\n",
       "    <tr>\n",
       "      <th>4</th>\n",
       "      <td>2021</td>\n",
       "      <td>195.163174</td>\n",
       "      <td>195.219931</td>\n",
       "    </tr>\n",
       "    <tr>\n",
       "      <th>5</th>\n",
       "      <td>2022</td>\n",
       "      <td>227.322162</td>\n",
       "      <td>226.646216</td>\n",
       "    </tr>\n",
       "  </tbody>\n",
       "</table>\n",
       "</div>"
      ],
      "text/plain": [
       "   Years        Open       Close\n",
       "0   2017   44.862943   44.819273\n",
       "1   2018   58.182002   58.096036\n",
       "2   2019   43.610050   43.646925\n",
       "3   2020   98.879723   98.907085\n",
       "4   2021  195.163174  195.219931\n",
       "5   2022  227.322162  226.646216"
      ]
     },
     "execution_count": 16,
     "metadata": {},
     "output_type": "execute_result"
    }
   ],
   "source": [
    "df_avg_close_open = df_grouped_yearly[[\"Years\", \"Open\", \"Close\"]]\n",
    "df_avg_close_open"
   ]
  },
  {
   "cell_type": "code",
   "execution_count": 17,
   "id": "0f27abd5",
   "metadata": {},
   "outputs": [
    {
     "data": {
      "text/plain": [
       "<AxesSubplot:xlabel='Years'>"
      ]
     },
     "execution_count": 17,
     "metadata": {},
     "output_type": "execute_result"
    },
    {
     "data": {
      "image/png": "[encoded data removed]",
      "text/plain": [
       "<Figure size 432x288 with 1 Axes>"
      ]
     },
     "metadata": {
      "needs_background": "light"
     },
     "output_type": "display_data"
    }
   ],
   "source": [
    "df_avg_close_open.plot.bar(x=\"Years\")"
   ]
  },
  {
   "cell_type": "markdown",
   "id": "404701ad",
   "metadata": {},
   "source": [
    "## Average Low and High price per year:"
   ]
  },
  {
   "cell_type": "code",
   "execution_count": 18,
   "id": "af70ff30",
   "metadata": {},
   "outputs": [
    {
     "data": {
      "text/plain": [
       "<AxesSubplot:xlabel='Years'>"
      ]
     },
     "execution_count": 18,
     "metadata": {},
     "output_type": "execute_result"
    },
    {
     "data": {
      "image/png": "[encoded data removed]",
      "text/plain": [
       "<Figure size 432x288 with 1 Axes>"
      ]
     },
     "metadata": {
      "needs_background": "light"
     },
     "output_type": "display_data"
    }
   ],
   "source": [
    "df_grouped_yearly[[\"Years\", \"High\", \"Low\"]].plot.bar(x=\"Years\")"
   ]
  },
  {
   "cell_type": "markdown",
   "id": "10e2cea7",
   "metadata": {},
   "source": [
    "We can clearly see that even the price changed from 2019 to 2020, almost doubling in just 1 year. The reason for this was the announcement of launch of 1650s series GPU in later 2020. Apart from that, there was another one reason for the price going up and it was, the market started to get back normal after the pandemic hit the world in 2019. Both of these reason could be seen as the prime reasons for Nvidia growing up in subsequent years after 2019.\n",
    "\n",
    "Here also we can see that there is a significant increase in the price of nvidia stocks from year 2020 to 2021. This can be marked by the launch of GPU series 3000s that Nvidia decided to launch in mid 2021 that prove to be an excellent GPU with a lot of demand in market.\n",
    "\n",
    "Source of infomation: <br>\n",
    "    1.) https://www.nvidia.com/en-in/geforce/news/computex-2021-announcements/ <br>\n",
    "    2.) https://www.nvidia.com/en-in/about-nvidia/corporate-timeline/"
   ]
  },
  {
   "cell_type": "markdown",
   "id": "78bd4753",
   "metadata": {},
   "source": [
    "# Total stocks bought:"
   ]
  },
  {
   "cell_type": "markdown",
   "id": "1f0e49ce",
   "metadata": {},
   "source": [
    "It would be more meaningful to show the total stocks data per year in form of a dataframe:"
   ]
  },
  {
   "cell_type": "code",
   "execution_count": 65,
   "id": "33b76643",
   "metadata": {},
   "outputs": [
    {
     "data": {
      "text/html": [
       "<div>\n",
       "<style scoped>\n",
       "    .dataframe tbody tr th:only-of-type {\n",
       "        vertical-align: middle;\n",
       "    }\n",
       "\n",
       "    .dataframe tbody tr th {\n",
       "        vertical-align: top;\n",
       "    }\n",
       "\n",
       "    .dataframe thead th {\n",
       "        text-align: right;\n",
       "    }\n",
       "</style>\n",
       "<table border=\"1\" class=\"dataframe\">\n",
       "  <thead>\n",
       "    <tr style=\"text-align: right;\">\n",
       "      <th></th>\n",
       "      <th>Years</th>\n",
       "      <th>Volume</th>\n",
       "    </tr>\n",
       "  </thead>\n",
       "  <tbody>\n",
       "    <tr>\n",
       "      <th>0</th>\n",
       "      <td>2017</td>\n",
       "      <td>9344368000</td>\n",
       "    </tr>\n",
       "    <tr>\n",
       "      <th>1</th>\n",
       "      <td>2018</td>\n",
       "      <td>13756960800</td>\n",
       "    </tr>\n",
       "    <tr>\n",
       "      <th>2</th>\n",
       "      <td>2019</td>\n",
       "      <td>11501271600</td>\n",
       "    </tr>\n",
       "    <tr>\n",
       "      <th>3</th>\n",
       "      <td>2020</td>\n",
       "      <td>12165638000</td>\n",
       "    </tr>\n",
       "    <tr>\n",
       "      <th>4</th>\n",
       "      <td>2021</td>\n",
       "      <td>9060882200</td>\n",
       "    </tr>\n",
       "    <tr>\n",
       "      <th>5</th>\n",
       "      <td>2022</td>\n",
       "      <td>6174548800</td>\n",
       "    </tr>\n",
       "  </tbody>\n",
       "</table>\n",
       "</div>"
      ],
      "text/plain": [
       "   Years       Volume\n",
       "0   2017   9344368000\n",
       "1   2018  13756960800\n",
       "2   2019  11501271600\n",
       "3   2020  12165638000\n",
       "4   2021   9060882200\n",
       "5   2022   6174548800"
      ]
     },
     "execution_count": 65,
     "metadata": {},
     "output_type": "execute_result"
    }
   ],
   "source": [
    "df_total_yearly = df[[\"Years\", \"Volume\"]].groupby(\"Years\", as_index=False).sum()\n",
    "df_total_yearly"
   ]
  },
  {
   "cell_type": "markdown",
   "id": "a11c5668",
   "metadata": {},
   "source": [
    "Plotting the above data:"
   ]
  },
  {
   "cell_type": "code",
   "execution_count": 66,
   "id": "1459400c",
   "metadata": {},
   "outputs": [
    {
     "data": {
      "text/plain": [
       "<AxesSubplot:xlabel='Years'>"
      ]
     },
     "execution_count": 66,
     "metadata": {},
     "output_type": "execute_result"
    },
    {
     "data": {
      "image/png": "[encoded data removed]",
      "text/plain": [
       "<Figure size 432x288 with 1 Axes>"
      ]
     },
     "metadata": {
      "needs_background": "light"
     },
     "output_type": "display_data"
    }
   ],
   "source": [
    "df_total_yearly.plot.bar(x = \"Years\")"
   ]
  },
  {
   "cell_type": "code",
   "execution_count": 69,
   "id": "eb537361",
   "metadata": {},
   "outputs": [
    {
     "data": {
      "text/html": [
       "<div>\n",
       "<style scoped>\n",
       "    .dataframe tbody tr th:only-of-type {\n",
       "        vertical-align: middle;\n",
       "    }\n",
       "\n",
       "    .dataframe tbody tr th {\n",
       "        vertical-align: top;\n",
       "    }\n",
       "\n",
       "    .dataframe thead th {\n",
       "        text-align: right;\n",
       "    }\n",
       "</style>\n",
       "<table border=\"1\" class=\"dataframe\">\n",
       "  <thead>\n",
       "    <tr style=\"text-align: right;\">\n",
       "      <th></th>\n",
       "      <th>Years</th>\n",
       "      <th>Months</th>\n",
       "      <th>Volume</th>\n",
       "    </tr>\n",
       "  </thead>\n",
       "  <tbody>\n",
       "    <tr>\n",
       "      <th>0</th>\n",
       "      <td>2017</td>\n",
       "      <td>6</td>\n",
       "      <td>1541133600</td>\n",
       "    </tr>\n",
       "    <tr>\n",
       "      <th>1</th>\n",
       "      <td>2017</td>\n",
       "      <td>7</td>\n",
       "      <td>1549101600</td>\n",
       "    </tr>\n",
       "    <tr>\n",
       "      <th>2</th>\n",
       "      <td>2017</td>\n",
       "      <td>8</td>\n",
       "      <td>1472821600</td>\n",
       "    </tr>\n",
       "    <tr>\n",
       "      <th>3</th>\n",
       "      <td>2017</td>\n",
       "      <td>9</td>\n",
       "      <td>1444733600</td>\n",
       "    </tr>\n",
       "    <tr>\n",
       "      <th>4</th>\n",
       "      <td>2017</td>\n",
       "      <td>10</td>\n",
       "      <td>1142266400</td>\n",
       "    </tr>\n",
       "    <tr>\n",
       "      <th>...</th>\n",
       "      <td>...</td>\n",
       "      <td>...</td>\n",
       "      <td>...</td>\n",
       "    </tr>\n",
       "    <tr>\n",
       "      <th>56</th>\n",
       "      <td>2022</td>\n",
       "      <td>2</td>\n",
       "      <td>1064427000</td>\n",
       "    </tr>\n",
       "    <tr>\n",
       "      <th>57</th>\n",
       "      <td>2022</td>\n",
       "      <td>3</td>\n",
       "      <td>1164459900</td>\n",
       "    </tr>\n",
       "    <tr>\n",
       "      <th>58</th>\n",
       "      <td>2022</td>\n",
       "      <td>4</td>\n",
       "      <td>1111439000</td>\n",
       "    </tr>\n",
       "    <tr>\n",
       "      <th>59</th>\n",
       "      <td>2022</td>\n",
       "      <td>5</td>\n",
       "      <td>1383302100</td>\n",
       "    </tr>\n",
       "    <tr>\n",
       "      <th>60</th>\n",
       "      <td>2022</td>\n",
       "      <td>6</td>\n",
       "      <td>382704400</td>\n",
       "    </tr>\n",
       "  </tbody>\n",
       "</table>\n",
       "<p>61 rows × 3 columns</p>\n",
       "</div>"
      ],
      "text/plain": [
       "    Years  Months      Volume\n",
       "0    2017       6  1541133600\n",
       "1    2017       7  1549101600\n",
       "2    2017       8  1472821600\n",
       "3    2017       9  1444733600\n",
       "4    2017      10  1142266400\n",
       "..    ...     ...         ...\n",
       "56   2022       2  1064427000\n",
       "57   2022       3  1164459900\n",
       "58   2022       4  1111439000\n",
       "59   2022       5  1383302100\n",
       "60   2022       6   382704400\n",
       "\n",
       "[61 rows x 3 columns]"
      ]
     },
     "execution_count": 69,
     "metadata": {},
     "output_type": "execute_result"
    }
   ],
   "source": [
    "df_month_stock = df[[\"Years\", \"Months\", \"Volume\"]].groupby([\"Years\", \"Months\"], as_index=False).sum()\n",
    "df_month_stock"
   ]
  },
  {
   "cell_type": "markdown",
   "id": "22898f85",
   "metadata": {},
   "source": [
    "## For the year of 2017:"
   ]
  },
  {
   "cell_type": "code",
   "execution_count": 21,
   "id": "3ca40e66",
   "metadata": {},
   "outputs": [
    {
     "data": {
      "text/html": [
       "<div>\n",
       "<style scoped>\n",
       "    .dataframe tbody tr th:only-of-type {\n",
       "        vertical-align: middle;\n",
       "    }\n",
       "\n",
       "    .dataframe tbody tr th {\n",
       "        vertical-align: top;\n",
       "    }\n",
       "\n",
       "    .dataframe thead th {\n",
       "        text-align: right;\n",
       "    }\n",
       "</style>\n",
       "<table border=\"1\" class=\"dataframe\">\n",
       "  <thead>\n",
       "    <tr style=\"text-align: right;\">\n",
       "      <th></th>\n",
       "      <th>Years</th>\n",
       "      <th>Months</th>\n",
       "      <th>Open</th>\n",
       "      <th>High</th>\n",
       "      <th>Low</th>\n",
       "      <th>Close</th>\n",
       "    </tr>\n",
       "  </thead>\n",
       "  <tbody>\n",
       "    <tr>\n",
       "      <th>0</th>\n",
       "      <td>2017</td>\n",
       "      <td>6</td>\n",
       "      <td>38.242501</td>\n",
       "      <td>38.772667</td>\n",
       "      <td>37.291833</td>\n",
       "      <td>38.081333</td>\n",
       "    </tr>\n",
       "    <tr>\n",
       "      <th>1</th>\n",
       "      <td>2017</td>\n",
       "      <td>7</td>\n",
       "      <td>39.782625</td>\n",
       "      <td>40.383375</td>\n",
       "      <td>39.146750</td>\n",
       "      <td>39.857500</td>\n",
       "    </tr>\n",
       "    <tr>\n",
       "      <th>2</th>\n",
       "      <td>2017</td>\n",
       "      <td>8</td>\n",
       "      <td>41.311196</td>\n",
       "      <td>41.813587</td>\n",
       "      <td>40.699565</td>\n",
       "      <td>41.335000</td>\n",
       "    </tr>\n",
       "    <tr>\n",
       "      <th>3</th>\n",
       "      <td>2017</td>\n",
       "      <td>9</td>\n",
       "      <td>43.612000</td>\n",
       "      <td>44.133250</td>\n",
       "      <td>42.992625</td>\n",
       "      <td>43.557250</td>\n",
       "    </tr>\n",
       "    <tr>\n",
       "      <th>4</th>\n",
       "      <td>2017</td>\n",
       "      <td>10</td>\n",
       "      <td>48.011136</td>\n",
       "      <td>48.505113</td>\n",
       "      <td>47.515682</td>\n",
       "      <td>48.151250</td>\n",
       "    </tr>\n",
       "    <tr>\n",
       "      <th>5</th>\n",
       "      <td>2017</td>\n",
       "      <td>11</td>\n",
       "      <td>52.852738</td>\n",
       "      <td>53.212500</td>\n",
       "      <td>51.974643</td>\n",
       "      <td>52.593691</td>\n",
       "    </tr>\n",
       "    <tr>\n",
       "      <th>6</th>\n",
       "      <td>2017</td>\n",
       "      <td>12</td>\n",
       "      <td>48.391750</td>\n",
       "      <td>48.969000</td>\n",
       "      <td>47.602000</td>\n",
       "      <td>48.275125</td>\n",
       "    </tr>\n",
       "  </tbody>\n",
       "</table>\n",
       "</div>"
      ],
      "text/plain": [
       "   Years  Months       Open       High        Low      Close\n",
       "0   2017       6  38.242501  38.772667  37.291833  38.081333\n",
       "1   2017       7  39.782625  40.383375  39.146750  39.857500\n",
       "2   2017       8  41.311196  41.813587  40.699565  41.335000\n",
       "3   2017       9  43.612000  44.133250  42.992625  43.557250\n",
       "4   2017      10  48.011136  48.505113  47.515682  48.151250\n",
       "5   2017      11  52.852738  53.212500  51.974643  52.593691\n",
       "6   2017      12  48.391750  48.969000  47.602000  48.275125"
      ]
     },
     "execution_count": 21,
     "metadata": {},
     "output_type": "execute_result"
    }
   ],
   "source": [
    "df_2017 = df_month[[\"Years\", \"Months\", \"Open\", \"High\", \"Low\", \"Close\"]][df_month[\"Years\"] == 2017]\n",
    "df_2017"
   ]
  },
  {
   "cell_type": "markdown",
   "id": "5fb1a0f2",
   "metadata": {},
   "source": [
    "##### Average High and Low price monthly:"
   ]
  },
  {
   "cell_type": "code",
   "execution_count": 22,
   "id": "2299e88e",
   "metadata": {},
   "outputs": [
    {
     "data": {
      "text/plain": [
       "<AxesSubplot:xlabel='Months'>"
      ]
     },
     "execution_count": 22,
     "metadata": {},
     "output_type": "execute_result"
    },
    {
     "data": {
      "image/png": "[encoded data removed]",
      "text/plain": [
       "<Figure size 432x288 with 1 Axes>"
      ]
     },
     "metadata": {
      "needs_background": "light"
     },
     "output_type": "display_data"
    }
   ],
   "source": [
    "df_2017_avg_HL = df_2017[[\"Months\", \"High\", \"Low\"]]\n",
    "df_2017_avg_HL.plot.bar(x = \"Months\")"
   ]
  },
  {
   "cell_type": "markdown",
   "id": "cc71d491",
   "metadata": {},
   "source": [
    "##### Average Open and Close price monthly:"
   ]
  },
  {
   "cell_type": "code",
   "execution_count": 23,
   "id": "e179bb51",
   "metadata": {
    "scrolled": true
   },
   "outputs": [
    {
     "data": {
      "text/plain": [
       "<AxesSubplot:xlabel='Months'>"
      ]
     },
     "execution_count": 23,
     "metadata": {},
     "output_type": "execute_result"
    },
    {
     "data": {
      "image/png": "[encoded data removed]",
      "text/plain": [
       "<Figure size 432x288 with 1 Axes>"
      ]
     },
     "metadata": {
      "needs_background": "light"
     },
     "output_type": "display_data"
    }
   ],
   "source": [
    "df_2017_avg_OC = df_2017[[\"Months\", \"Open\", \"Close\"]]\n",
    "df_2017_avg_OC.plot.bar(x = \"Months\")"
   ]
  },
  {
   "cell_type": "markdown",
   "id": "1b9f77de",
   "metadata": {},
   "source": [
    "##### Total Stock bought :"
   ]
  },
  {
   "cell_type": "code",
   "execution_count": 55,
   "id": "66e0ff4d",
   "metadata": {},
   "outputs": [
    {
     "name": "stdout",
     "output_type": "stream",
     "text": [
      "The total number of stock bought in 2017 are 9344368000\n"
     ]
    }
   ],
   "source": [
    "total_2017 = df[\"Volume\"][df[\"Years\"]==2017].sum()\n",
    "print(\"The total number of stock bought in 2017 are\",total_2017)"
   ]
  },
  {
   "cell_type": "markdown",
   "id": "86a43718",
   "metadata": {},
   "source": [
    "## For the year of 2018:"
   ]
  },
  {
   "cell_type": "markdown",
   "id": "dfed2848",
   "metadata": {},
   "source": [
    "We can also use <code>loc</code> method to find out the index for columns with 2018 as year:"
   ]
  },
  {
   "cell_type": "code",
   "execution_count": 42,
   "id": "a50ad9d5",
   "metadata": {},
   "outputs": [
    {
     "data": {
      "text/html": [
       "<div>\n",
       "<style scoped>\n",
       "    .dataframe tbody tr th:only-of-type {\n",
       "        vertical-align: middle;\n",
       "    }\n",
       "\n",
       "    .dataframe tbody tr th {\n",
       "        vertical-align: top;\n",
       "    }\n",
       "\n",
       "    .dataframe thead th {\n",
       "        text-align: right;\n",
       "    }\n",
       "</style>\n",
       "<table border=\"1\" class=\"dataframe\">\n",
       "  <thead>\n",
       "    <tr style=\"text-align: right;\">\n",
       "      <th></th>\n",
       "      <th>Years</th>\n",
       "      <th>Months</th>\n",
       "      <th>Open</th>\n",
       "      <th>High</th>\n",
       "      <th>Low</th>\n",
       "      <th>Close</th>\n",
       "      <th>Adj Close</th>\n",
       "      <th>Volume</th>\n",
       "    </tr>\n",
       "  </thead>\n",
       "  <tbody>\n",
       "    <tr>\n",
       "      <th>7</th>\n",
       "      <td>2018</td>\n",
       "      <td>1</td>\n",
       "      <td>56.512976</td>\n",
       "      <td>57.421310</td>\n",
       "      <td>55.912262</td>\n",
       "      <td>56.884762</td>\n",
       "      <td>56.341973</td>\n",
       "      <td>5.455341e+07</td>\n",
       "    </tr>\n",
       "    <tr>\n",
       "      <th>8</th>\n",
       "      <td>2018</td>\n",
       "      <td>2</td>\n",
       "      <td>59.411579</td>\n",
       "      <td>60.581710</td>\n",
       "      <td>57.953684</td>\n",
       "      <td>59.176710</td>\n",
       "      <td>58.621953</td>\n",
       "      <td>7.850278e+07</td>\n",
       "    </tr>\n",
       "    <tr>\n",
       "      <th>9</th>\n",
       "      <td>2018</td>\n",
       "      <td>3</td>\n",
       "      <td>60.424643</td>\n",
       "      <td>61.405357</td>\n",
       "      <td>59.088690</td>\n",
       "      <td>60.212381</td>\n",
       "      <td>59.674902</td>\n",
       "      <td>6.723067e+07</td>\n",
       "    </tr>\n",
       "    <tr>\n",
       "      <th>10</th>\n",
       "      <td>2018</td>\n",
       "      <td>4</td>\n",
       "      <td>56.770595</td>\n",
       "      <td>57.590358</td>\n",
       "      <td>55.608453</td>\n",
       "      <td>56.491310</td>\n",
       "      <td>55.987046</td>\n",
       "      <td>5.306670e+07</td>\n",
       "    </tr>\n",
       "    <tr>\n",
       "      <th>11</th>\n",
       "      <td>2018</td>\n",
       "      <td>5</td>\n",
       "      <td>61.299659</td>\n",
       "      <td>62.197386</td>\n",
       "      <td>60.696477</td>\n",
       "      <td>61.600227</td>\n",
       "      <td>61.060794</td>\n",
       "      <td>5.444655e+07</td>\n",
       "    </tr>\n",
       "    <tr>\n",
       "      <th>12</th>\n",
       "      <td>2018</td>\n",
       "      <td>6</td>\n",
       "      <td>64.285477</td>\n",
       "      <td>64.937739</td>\n",
       "      <td>63.453810</td>\n",
       "      <td>64.117380</td>\n",
       "      <td>63.584339</td>\n",
       "      <td>4.183590e+07</td>\n",
       "    </tr>\n",
       "    <tr>\n",
       "      <th>13</th>\n",
       "      <td>2018</td>\n",
       "      <td>7</td>\n",
       "      <td>62.072262</td>\n",
       "      <td>62.785952</td>\n",
       "      <td>61.338333</td>\n",
       "      <td>62.167500</td>\n",
       "      <td>61.650671</td>\n",
       "      <td>3.010417e+07</td>\n",
       "    </tr>\n",
       "    <tr>\n",
       "      <th>14</th>\n",
       "      <td>2018</td>\n",
       "      <td>8</td>\n",
       "      <td>64.784674</td>\n",
       "      <td>65.773696</td>\n",
       "      <td>64.190108</td>\n",
       "      <td>65.206848</td>\n",
       "      <td>64.669688</td>\n",
       "      <td>4.746885e+07</td>\n",
       "    </tr>\n",
       "    <tr>\n",
       "      <th>15</th>\n",
       "      <td>2018</td>\n",
       "      <td>9</td>\n",
       "      <td>67.978815</td>\n",
       "      <td>68.751843</td>\n",
       "      <td>67.201184</td>\n",
       "      <td>67.977763</td>\n",
       "      <td>67.449504</td>\n",
       "      <td>3.336947e+07</td>\n",
       "    </tr>\n",
       "    <tr>\n",
       "      <th>16</th>\n",
       "      <td>2018</td>\n",
       "      <td>10</td>\n",
       "      <td>60.790761</td>\n",
       "      <td>61.840761</td>\n",
       "      <td>58.815652</td>\n",
       "      <td>60.006848</td>\n",
       "      <td>59.540531</td>\n",
       "      <td>5.642598e+07</td>\n",
       "    </tr>\n",
       "    <tr>\n",
       "      <th>17</th>\n",
       "      <td>2018</td>\n",
       "      <td>11</td>\n",
       "      <td>45.444761</td>\n",
       "      <td>46.617143</td>\n",
       "      <td>44.125833</td>\n",
       "      <td>45.301190</td>\n",
       "      <td>44.952944</td>\n",
       "      <td>7.696352e+07</td>\n",
       "    </tr>\n",
       "    <tr>\n",
       "      <th>18</th>\n",
       "      <td>2018</td>\n",
       "      <td>12</td>\n",
       "      <td>36.353290</td>\n",
       "      <td>37.119737</td>\n",
       "      <td>35.111316</td>\n",
       "      <td>35.915000</td>\n",
       "      <td>35.671559</td>\n",
       "      <td>6.553373e+07</td>\n",
       "    </tr>\n",
       "  </tbody>\n",
       "</table>\n",
       "</div>"
      ],
      "text/plain": [
       "    Years  Months       Open       High        Low      Close  Adj Close  \\\n",
       "7    2018       1  56.512976  57.421310  55.912262  56.884762  56.341973   \n",
       "8    2018       2  59.411579  60.581710  57.953684  59.176710  58.621953   \n",
       "9    2018       3  60.424643  61.405357  59.088690  60.212381  59.674902   \n",
       "10   2018       4  56.770595  57.590358  55.608453  56.491310  55.987046   \n",
       "11   2018       5  61.299659  62.197386  60.696477  61.600227  61.060794   \n",
       "12   2018       6  64.285477  64.937739  63.453810  64.117380  63.584339   \n",
       "13   2018       7  62.072262  62.785952  61.338333  62.167500  61.650671   \n",
       "14   2018       8  64.784674  65.773696  64.190108  65.206848  64.669688   \n",
       "15   2018       9  67.978815  68.751843  67.201184  67.977763  67.449504   \n",
       "16   2018      10  60.790761  61.840761  58.815652  60.006848  59.540531   \n",
       "17   2018      11  45.444761  46.617143  44.125833  45.301190  44.952944   \n",
       "18   2018      12  36.353290  37.119737  35.111316  35.915000  35.671559   \n",
       "\n",
       "          Volume  \n",
       "7   5.455341e+07  \n",
       "8   7.850278e+07  \n",
       "9   6.723067e+07  \n",
       "10  5.306670e+07  \n",
       "11  5.444655e+07  \n",
       "12  4.183590e+07  \n",
       "13  3.010417e+07  \n",
       "14  4.746885e+07  \n",
       "15  3.336947e+07  \n",
       "16  5.642598e+07  \n",
       "17  7.696352e+07  \n",
       "18  6.553373e+07  "
      ]
     },
     "execution_count": 42,
     "metadata": {},
     "output_type": "execute_result"
    }
   ],
   "source": [
    "df_2018 = df_month.loc[df_month[\"Years\"]== 2018]\n",
    "df_2018"
   ]
  },
  {
   "cell_type": "markdown",
   "id": "7fff5300",
   "metadata": {},
   "source": [
    "##### Average High and Low price monthly:"
   ]
  },
  {
   "cell_type": "code",
   "execution_count": 41,
   "id": "aa94aad3",
   "metadata": {},
   "outputs": [
    {
     "data": {
      "text/plain": [
       "<AxesSubplot:xlabel='Months'>"
      ]
     },
     "execution_count": 41,
     "metadata": {},
     "output_type": "execute_result"
    },
    {
     "data": {
      "image/png": "[encoded data removed]",
      "text/plain": [
       "<Figure size 432x288 with 1 Axes>"
      ]
     },
     "metadata": {
      "needs_background": "light"
     },
     "output_type": "display_data"
    }
   ],
   "source": [
    "df_2018_avg_HL = df_2018[[\"Months\", \"High\", \"Low\"]]\n",
    "df_2018_avg_HL.plot.bar(x = \"Months\")"
   ]
  },
  {
   "cell_type": "markdown",
   "id": "a486f3c4",
   "metadata": {},
   "source": [
    "##### Average Open and Close price monthly:"
   ]
  },
  {
   "cell_type": "code",
   "execution_count": 26,
   "id": "34a27683",
   "metadata": {
    "scrolled": true
   },
   "outputs": [
    {
     "data": {
      "text/plain": [
       "<AxesSubplot:xlabel='Months'>"
      ]
     },
     "execution_count": 26,
     "metadata": {},
     "output_type": "execute_result"
    },
    {
     "data": {
      "image/png": "[encoded data removed]",
      "text/plain": [
       "<Figure size 432x288 with 1 Axes>"
      ]
     },
     "metadata": {
      "needs_background": "light"
     },
     "output_type": "display_data"
    }
   ],
   "source": [
    "df_2018_avg_OC = df_2018[[\"Months\", \"Open\", \"Close\"]]\n",
    "df_2018_avg_OC.plot.bar(x = \"Months\")"
   ]
  },
  {
   "cell_type": "markdown",
   "id": "cfd34142",
   "metadata": {},
   "source": [
    "##### Total Stock bought :"
   ]
  },
  {
   "cell_type": "code",
   "execution_count": 56,
   "id": "e5dd926d",
   "metadata": {},
   "outputs": [
    {
     "name": "stdout",
     "output_type": "stream",
     "text": [
      "The total number of stock bought in 2018 are 13756960800\n"
     ]
    }
   ],
   "source": [
    "total_2018 = df[\"Volume\"][df[\"Years\"]==2018].sum()\n",
    "print(\"The total number of stock bought in 2018 are\",total_2018)"
   ]
  },
  {
   "cell_type": "markdown",
   "id": "aa124e9f",
   "metadata": {},
   "source": [
    "## For the year of 2019:"
   ]
  },
  {
   "cell_type": "code",
   "execution_count": 43,
   "id": "e8a6383d",
   "metadata": {},
   "outputs": [
    {
     "data": {
      "text/html": [
       "<div>\n",
       "<style scoped>\n",
       "    .dataframe tbody tr th:only-of-type {\n",
       "        vertical-align: middle;\n",
       "    }\n",
       "\n",
       "    .dataframe tbody tr th {\n",
       "        vertical-align: top;\n",
       "    }\n",
       "\n",
       "    .dataframe thead th {\n",
       "        text-align: right;\n",
       "    }\n",
       "</style>\n",
       "<table border=\"1\" class=\"dataframe\">\n",
       "  <thead>\n",
       "    <tr style=\"text-align: right;\">\n",
       "      <th></th>\n",
       "      <th>Years</th>\n",
       "      <th>Months</th>\n",
       "      <th>Open</th>\n",
       "      <th>High</th>\n",
       "      <th>Low</th>\n",
       "      <th>Close</th>\n",
       "      <th>Adj Close</th>\n",
       "      <th>Volume</th>\n",
       "    </tr>\n",
       "  </thead>\n",
       "  <tbody>\n",
       "    <tr>\n",
       "      <th>19</th>\n",
       "      <td>2019</td>\n",
       "      <td>1</td>\n",
       "      <td>35.937619</td>\n",
       "      <td>36.956786</td>\n",
       "      <td>35.166905</td>\n",
       "      <td>36.248452</td>\n",
       "      <td>36.002750</td>\n",
       "      <td>8.033806e+07</td>\n",
       "    </tr>\n",
       "    <tr>\n",
       "      <th>20</th>\n",
       "      <td>2019</td>\n",
       "      <td>2</td>\n",
       "      <td>38.334605</td>\n",
       "      <td>38.957236</td>\n",
       "      <td>37.816579</td>\n",
       "      <td>38.295132</td>\n",
       "      <td>38.037634</td>\n",
       "      <td>6.024067e+07</td>\n",
       "    </tr>\n",
       "    <tr>\n",
       "      <th>21</th>\n",
       "      <td>2019</td>\n",
       "      <td>3</td>\n",
       "      <td>41.751667</td>\n",
       "      <td>42.517024</td>\n",
       "      <td>41.059286</td>\n",
       "      <td>41.831071</td>\n",
       "      <td>41.590350</td>\n",
       "      <td>5.746924e+07</td>\n",
       "    </tr>\n",
       "    <tr>\n",
       "      <th>22</th>\n",
       "      <td>2019</td>\n",
       "      <td>4</td>\n",
       "      <td>46.779762</td>\n",
       "      <td>47.266547</td>\n",
       "      <td>46.145714</td>\n",
       "      <td>46.785119</td>\n",
       "      <td>46.515888</td>\n",
       "      <td>4.494181e+07</td>\n",
       "    </tr>\n",
       "    <tr>\n",
       "      <th>23</th>\n",
       "      <td>2019</td>\n",
       "      <td>5</td>\n",
       "      <td>40.192500</td>\n",
       "      <td>40.710114</td>\n",
       "      <td>39.461250</td>\n",
       "      <td>39.989432</td>\n",
       "      <td>39.762850</td>\n",
       "      <td>5.082160e+07</td>\n",
       "    </tr>\n",
       "    <tr>\n",
       "      <th>24</th>\n",
       "      <td>2019</td>\n",
       "      <td>6</td>\n",
       "      <td>37.366875</td>\n",
       "      <td>37.947875</td>\n",
       "      <td>36.922625</td>\n",
       "      <td>37.417125</td>\n",
       "      <td>37.244266</td>\n",
       "      <td>4.116670e+07</td>\n",
       "    </tr>\n",
       "    <tr>\n",
       "      <th>25</th>\n",
       "      <td>2019</td>\n",
       "      <td>7</td>\n",
       "      <td>42.062954</td>\n",
       "      <td>42.506591</td>\n",
       "      <td>41.465341</td>\n",
       "      <td>41.995569</td>\n",
       "      <td>41.801558</td>\n",
       "      <td>3.825447e+07</td>\n",
       "    </tr>\n",
       "    <tr>\n",
       "      <th>26</th>\n",
       "      <td>2019</td>\n",
       "      <td>8</td>\n",
       "      <td>40.215568</td>\n",
       "      <td>40.788863</td>\n",
       "      <td>39.504659</td>\n",
       "      <td>40.093863</td>\n",
       "      <td>39.914189</td>\n",
       "      <td>4.295604e+07</td>\n",
       "    </tr>\n",
       "    <tr>\n",
       "      <th>27</th>\n",
       "      <td>2019</td>\n",
       "      <td>9</td>\n",
       "      <td>44.230250</td>\n",
       "      <td>44.855625</td>\n",
       "      <td>43.725625</td>\n",
       "      <td>44.315000</td>\n",
       "      <td>44.153940</td>\n",
       "      <td>3.173884e+07</td>\n",
       "    </tr>\n",
       "    <tr>\n",
       "      <th>28</th>\n",
       "      <td>2019</td>\n",
       "      <td>10</td>\n",
       "      <td>47.560109</td>\n",
       "      <td>48.322500</td>\n",
       "      <td>47.033043</td>\n",
       "      <td>47.666739</td>\n",
       "      <td>47.493497</td>\n",
       "      <td>3.346162e+07</td>\n",
       "    </tr>\n",
       "    <tr>\n",
       "      <th>29</th>\n",
       "      <td>2019</td>\n",
       "      <td>11</td>\n",
       "      <td>52.551125</td>\n",
       "      <td>53.191375</td>\n",
       "      <td>51.926124</td>\n",
       "      <td>52.656250</td>\n",
       "      <td>52.468870</td>\n",
       "      <td>3.660900e+07</td>\n",
       "    </tr>\n",
       "    <tr>\n",
       "      <th>30</th>\n",
       "      <td>2019</td>\n",
       "      <td>12</td>\n",
       "      <td>56.015000</td>\n",
       "      <td>56.692619</td>\n",
       "      <td>55.570476</td>\n",
       "      <td>56.162976</td>\n",
       "      <td>56.000143</td>\n",
       "      <td>3.115968e+07</td>\n",
       "    </tr>\n",
       "  </tbody>\n",
       "</table>\n",
       "</div>"
      ],
      "text/plain": [
       "    Years  Months       Open       High        Low      Close  Adj Close  \\\n",
       "19   2019       1  35.937619  36.956786  35.166905  36.248452  36.002750   \n",
       "20   2019       2  38.334605  38.957236  37.816579  38.295132  38.037634   \n",
       "21   2019       3  41.751667  42.517024  41.059286  41.831071  41.590350   \n",
       "22   2019       4  46.779762  47.266547  46.145714  46.785119  46.515888   \n",
       "23   2019       5  40.192500  40.710114  39.461250  39.989432  39.762850   \n",
       "24   2019       6  37.366875  37.947875  36.922625  37.417125  37.244266   \n",
       "25   2019       7  42.062954  42.506591  41.465341  41.995569  41.801558   \n",
       "26   2019       8  40.215568  40.788863  39.504659  40.093863  39.914189   \n",
       "27   2019       9  44.230250  44.855625  43.725625  44.315000  44.153940   \n",
       "28   2019      10  47.560109  48.322500  47.033043  47.666739  47.493497   \n",
       "29   2019      11  52.551125  53.191375  51.926124  52.656250  52.468870   \n",
       "30   2019      12  56.015000  56.692619  55.570476  56.162976  56.000143   \n",
       "\n",
       "          Volume  \n",
       "19  8.033806e+07  \n",
       "20  6.024067e+07  \n",
       "21  5.746924e+07  \n",
       "22  4.494181e+07  \n",
       "23  5.082160e+07  \n",
       "24  4.116670e+07  \n",
       "25  3.825447e+07  \n",
       "26  4.295604e+07  \n",
       "27  3.173884e+07  \n",
       "28  3.346162e+07  \n",
       "29  3.660900e+07  \n",
       "30  3.115968e+07  "
      ]
     },
     "execution_count": 43,
     "metadata": {},
     "output_type": "execute_result"
    }
   ],
   "source": [
    "df_2019 = df_month.loc[df_month[\"Years\"]== 2019]\n",
    "df_2019"
   ]
  },
  {
   "cell_type": "markdown",
   "id": "cbc1486d",
   "metadata": {},
   "source": [
    "##### Average High and Low price monthly:"
   ]
  },
  {
   "cell_type": "code",
   "execution_count": 44,
   "id": "4bf3f0b5",
   "metadata": {},
   "outputs": [
    {
     "data": {
      "text/plain": [
       "<AxesSubplot:xlabel='Months'>"
      ]
     },
     "execution_count": 44,
     "metadata": {},
     "output_type": "execute_result"
    },
    {
     "data": {
      "image/png": "[encoded data removed]",
      "text/plain": [
       "<Figure size 432x288 with 1 Axes>"
      ]
     },
     "metadata": {
      "needs_background": "light"
     },
     "output_type": "display_data"
    }
   ],
   "source": [
    "df_2019_avg_HL = df_2019[[\"Months\", \"High\", \"Low\"]]\n",
    "df_2019_avg_HL.plot.bar(x = \"Months\")"
   ]
  },
  {
   "cell_type": "markdown",
   "id": "17280eaa",
   "metadata": {},
   "source": [
    "##### Average Open and Close price monthly:"
   ]
  },
  {
   "cell_type": "code",
   "execution_count": 45,
   "id": "96094b11",
   "metadata": {
    "scrolled": true
   },
   "outputs": [
    {
     "data": {
      "text/plain": [
       "<AxesSubplot:xlabel='Months'>"
      ]
     },
     "execution_count": 45,
     "metadata": {},
     "output_type": "execute_result"
    },
    {
     "data": {
      "image/png": "[encoded data removed]",
      "text/plain": [
       "<Figure size 432x288 with 1 Axes>"
      ]
     },
     "metadata": {
      "needs_background": "light"
     },
     "output_type": "display_data"
    }
   ],
   "source": [
    "df_2019_avg_OC = df_2019[[\"Months\", \"Open\", \"Close\"]]\n",
    "df_2019_avg_OC.plot.bar(x = \"Months\")"
   ]
  },
  {
   "cell_type": "markdown",
   "id": "4e656b7c",
   "metadata": {},
   "source": [
    "##### Total Stock bought :"
   ]
  },
  {
   "cell_type": "code",
   "execution_count": 57,
   "id": "1b1e41dd",
   "metadata": {},
   "outputs": [
    {
     "name": "stdout",
     "output_type": "stream",
     "text": [
      "The total number of stock bought in 2019 are 11501271600\n"
     ]
    }
   ],
   "source": [
    "total_2019 = df[\"Volume\"][df[\"Years\"]==2019].sum()\n",
    "print(\"The total number of stock bought in 2019 are\",total_2019)"
   ]
  },
  {
   "cell_type": "code",
   "execution_count": null,
   "id": "51a58cfa",
   "metadata": {},
   "outputs": [],
   "source": []
  },
  {
   "cell_type": "markdown",
   "id": "ecd99396",
   "metadata": {},
   "source": [
    "## For the year of 2020:"
   ]
  },
  {
   "cell_type": "code",
   "execution_count": 46,
   "id": "779d6000",
   "metadata": {},
   "outputs": [
    {
     "data": {
      "text/html": [
       "<div>\n",
       "<style scoped>\n",
       "    .dataframe tbody tr th:only-of-type {\n",
       "        vertical-align: middle;\n",
       "    }\n",
       "\n",
       "    .dataframe tbody tr th {\n",
       "        vertical-align: top;\n",
       "    }\n",
       "\n",
       "    .dataframe thead th {\n",
       "        text-align: right;\n",
       "    }\n",
       "</style>\n",
       "<table border=\"1\" class=\"dataframe\">\n",
       "  <thead>\n",
       "    <tr style=\"text-align: right;\">\n",
       "      <th></th>\n",
       "      <th>Years</th>\n",
       "      <th>Months</th>\n",
       "      <th>Open</th>\n",
       "      <th>High</th>\n",
       "      <th>Low</th>\n",
       "      <th>Close</th>\n",
       "      <th>Adj Close</th>\n",
       "      <th>Volume</th>\n",
       "    </tr>\n",
       "  </thead>\n",
       "  <tbody>\n",
       "    <tr>\n",
       "      <th>31</th>\n",
       "      <td>2020</td>\n",
       "      <td>1</td>\n",
       "      <td>61.182024</td>\n",
       "      <td>61.811548</td>\n",
       "      <td>60.434167</td>\n",
       "      <td>61.203214</td>\n",
       "      <td>61.025768</td>\n",
       "      <td>2.916863e+07</td>\n",
       "    </tr>\n",
       "    <tr>\n",
       "      <th>32</th>\n",
       "      <td>2020</td>\n",
       "      <td>2</td>\n",
       "      <td>67.050000</td>\n",
       "      <td>68.891448</td>\n",
       "      <td>66.039737</td>\n",
       "      <td>67.733159</td>\n",
       "      <td>67.540883</td>\n",
       "      <td>6.236133e+07</td>\n",
       "    </tr>\n",
       "    <tr>\n",
       "      <th>33</th>\n",
       "      <td>2020</td>\n",
       "      <td>3</td>\n",
       "      <td>60.518183</td>\n",
       "      <td>63.079205</td>\n",
       "      <td>58.258636</td>\n",
       "      <td>60.888182</td>\n",
       "      <td>60.747964</td>\n",
       "      <td>7.169978e+07</td>\n",
       "    </tr>\n",
       "    <tr>\n",
       "      <th>34</th>\n",
       "      <td>2020</td>\n",
       "      <td>4</td>\n",
       "      <td>69.391666</td>\n",
       "      <td>70.897620</td>\n",
       "      <td>67.797381</td>\n",
       "      <td>69.249167</td>\n",
       "      <td>69.089694</td>\n",
       "      <td>5.370621e+07</td>\n",
       "    </tr>\n",
       "    <tr>\n",
       "      <th>35</th>\n",
       "      <td>2020</td>\n",
       "      <td>5</td>\n",
       "      <td>81.483000</td>\n",
       "      <td>83.311125</td>\n",
       "      <td>79.973375</td>\n",
       "      <td>81.838125</td>\n",
       "      <td>81.649661</td>\n",
       "      <td>6.274438e+07</td>\n",
       "    </tr>\n",
       "    <tr>\n",
       "      <th>36</th>\n",
       "      <td>2020</td>\n",
       "      <td>6</td>\n",
       "      <td>91.100909</td>\n",
       "      <td>92.442727</td>\n",
       "      <td>89.457386</td>\n",
       "      <td>91.157501</td>\n",
       "      <td>90.983616</td>\n",
       "      <td>4.417938e+07</td>\n",
       "    </tr>\n",
       "    <tr>\n",
       "      <th>37</th>\n",
       "      <td>2020</td>\n",
       "      <td>7</td>\n",
       "      <td>102.068409</td>\n",
       "      <td>103.709318</td>\n",
       "      <td>100.466932</td>\n",
       "      <td>102.265341</td>\n",
       "      <td>102.076398</td>\n",
       "      <td>3.679296e+07</td>\n",
       "    </tr>\n",
       "    <tr>\n",
       "      <th>38</th>\n",
       "      <td>2020</td>\n",
       "      <td>8</td>\n",
       "      <td>118.995714</td>\n",
       "      <td>121.199642</td>\n",
       "      <td>117.377024</td>\n",
       "      <td>119.750714</td>\n",
       "      <td>119.529466</td>\n",
       "      <td>4.605973e+07</td>\n",
       "    </tr>\n",
       "    <tr>\n",
       "      <th>39</th>\n",
       "      <td>2020</td>\n",
       "      <td>9</td>\n",
       "      <td>128.181072</td>\n",
       "      <td>131.072977</td>\n",
       "      <td>124.355953</td>\n",
       "      <td>127.729525</td>\n",
       "      <td>127.531678</td>\n",
       "      <td>7.550739e+07</td>\n",
       "    </tr>\n",
       "    <tr>\n",
       "      <th>40</th>\n",
       "      <td>2020</td>\n",
       "      <td>10</td>\n",
       "      <td>136.371932</td>\n",
       "      <td>137.984432</td>\n",
       "      <td>134.062045</td>\n",
       "      <td>135.597500</td>\n",
       "      <td>135.387467</td>\n",
       "      <td>3.646525e+07</td>\n",
       "    </tr>\n",
       "    <tr>\n",
       "      <th>41</th>\n",
       "      <td>2020</td>\n",
       "      <td>11</td>\n",
       "      <td>134.094999</td>\n",
       "      <td>136.166124</td>\n",
       "      <td>131.328125</td>\n",
       "      <td>133.789251</td>\n",
       "      <td>133.582020</td>\n",
       "      <td>3.797410e+07</td>\n",
       "    </tr>\n",
       "    <tr>\n",
       "      <th>42</th>\n",
       "      <td>2020</td>\n",
       "      <td>12</td>\n",
       "      <td>132.590569</td>\n",
       "      <td>133.610909</td>\n",
       "      <td>130.732157</td>\n",
       "      <td>132.247387</td>\n",
       "      <td>132.077940</td>\n",
       "      <td>2.327725e+07</td>\n",
       "    </tr>\n",
       "  </tbody>\n",
       "</table>\n",
       "</div>"
      ],
      "text/plain": [
       "    Years  Months        Open        High         Low       Close   Adj Close  \\\n",
       "31   2020       1   61.182024   61.811548   60.434167   61.203214   61.025768   \n",
       "32   2020       2   67.050000   68.891448   66.039737   67.733159   67.540883   \n",
       "33   2020       3   60.518183   63.079205   58.258636   60.888182   60.747964   \n",
       "34   2020       4   69.391666   70.897620   67.797381   69.249167   69.089694   \n",
       "35   2020       5   81.483000   83.311125   79.973375   81.838125   81.649661   \n",
       "36   2020       6   91.100909   92.442727   89.457386   91.157501   90.983616   \n",
       "37   2020       7  102.068409  103.709318  100.466932  102.265341  102.076398   \n",
       "38   2020       8  118.995714  121.199642  117.377024  119.750714  119.529466   \n",
       "39   2020       9  128.181072  131.072977  124.355953  127.729525  127.531678   \n",
       "40   2020      10  136.371932  137.984432  134.062045  135.597500  135.387467   \n",
       "41   2020      11  134.094999  136.166124  131.328125  133.789251  133.582020   \n",
       "42   2020      12  132.590569  133.610909  130.732157  132.247387  132.077940   \n",
       "\n",
       "          Volume  \n",
       "31  2.916863e+07  \n",
       "32  6.236133e+07  \n",
       "33  7.169978e+07  \n",
       "34  5.370621e+07  \n",
       "35  6.274438e+07  \n",
       "36  4.417938e+07  \n",
       "37  3.679296e+07  \n",
       "38  4.605973e+07  \n",
       "39  7.550739e+07  \n",
       "40  3.646525e+07  \n",
       "41  3.797410e+07  \n",
       "42  2.327725e+07  "
      ]
     },
     "execution_count": 46,
     "metadata": {},
     "output_type": "execute_result"
    }
   ],
   "source": [
    "df_2020 = df_month.loc[df_month[\"Years\"]== 2020]\n",
    "df_2020"
   ]
  },
  {
   "cell_type": "markdown",
   "id": "29c10650",
   "metadata": {},
   "source": [
    "##### Average High and Low price monthly:"
   ]
  },
  {
   "cell_type": "code",
   "execution_count": 47,
   "id": "55b02af1",
   "metadata": {},
   "outputs": [
    {
     "data": {
      "text/plain": [
       "<AxesSubplot:xlabel='Months'>"
      ]
     },
     "execution_count": 47,
     "metadata": {},
     "output_type": "execute_result"
    },
    {
     "data": {
      "image/png": "[encoded data removed]",
      "text/plain": [
       "<Figure size 432x288 with 1 Axes>"
      ]
     },
     "metadata": {
      "needs_background": "light"
     },
     "output_type": "display_data"
    }
   ],
   "source": [
    "df_2020_avg_HL = df_2020[[\"Months\", \"High\", \"Low\"]]\n",
    "df_2020_avg_HL.plot.bar(x = \"Months\")"
   ]
  },
  {
   "cell_type": "markdown",
   "id": "1893044f",
   "metadata": {},
   "source": [
    "##### Average Open and Close price monthly:"
   ]
  },
  {
   "cell_type": "code",
   "execution_count": 48,
   "id": "6295cb3d",
   "metadata": {
    "scrolled": true
   },
   "outputs": [
    {
     "data": {
      "text/plain": [
       "<AxesSubplot:xlabel='Months'>"
      ]
     },
     "execution_count": 48,
     "metadata": {},
     "output_type": "execute_result"
    },
    {
     "data": {
      "image/png": "[encoded data removed]",
      "text/plain": [
       "<Figure size 432x288 with 1 Axes>"
      ]
     },
     "metadata": {
      "needs_background": "light"
     },
     "output_type": "display_data"
    }
   ],
   "source": [
    "df_2020_avg_OC = df_2020[[\"Months\", \"Open\", \"Close\"]]\n",
    "df_2020_avg_OC.plot.bar(x = \"Months\")"
   ]
  },
  {
   "cell_type": "markdown",
   "id": "5cb4504d",
   "metadata": {},
   "source": [
    "##### Total Stock bought :"
   ]
  },
  {
   "cell_type": "code",
   "execution_count": 58,
   "id": "2a26a411",
   "metadata": {},
   "outputs": [
    {
     "name": "stdout",
     "output_type": "stream",
     "text": [
      "The total number of stock bought in 2017 are 12165638000\n"
     ]
    }
   ],
   "source": [
    "total_2020 = df[\"Volume\"][df[\"Years\"]==2020].sum()\n",
    "print(\"The total number of stock bought in 2017 are\",total_2020)"
   ]
  },
  {
   "cell_type": "code",
   "execution_count": null,
   "id": "7c556398",
   "metadata": {},
   "outputs": [],
   "source": []
  },
  {
   "cell_type": "markdown",
   "id": "9db00903",
   "metadata": {},
   "source": [
    "## For the year of 2021:"
   ]
  },
  {
   "cell_type": "code",
   "execution_count": 49,
   "id": "5b29b56a",
   "metadata": {},
   "outputs": [
    {
     "data": {
      "text/html": [
       "<div>\n",
       "<style scoped>\n",
       "    .dataframe tbody tr th:only-of-type {\n",
       "        vertical-align: middle;\n",
       "    }\n",
       "\n",
       "    .dataframe tbody tr th {\n",
       "        vertical-align: top;\n",
       "    }\n",
       "\n",
       "    .dataframe thead th {\n",
       "        text-align: right;\n",
       "    }\n",
       "</style>\n",
       "<table border=\"1\" class=\"dataframe\">\n",
       "  <thead>\n",
       "    <tr style=\"text-align: right;\">\n",
       "      <th></th>\n",
       "      <th>Years</th>\n",
       "      <th>Months</th>\n",
       "      <th>Open</th>\n",
       "      <th>High</th>\n",
       "      <th>Low</th>\n",
       "      <th>Close</th>\n",
       "      <th>Adj Close</th>\n",
       "      <th>Volume</th>\n",
       "    </tr>\n",
       "  </thead>\n",
       "  <tbody>\n",
       "    <tr>\n",
       "      <th>43</th>\n",
       "      <td>2021</td>\n",
       "      <td>1</td>\n",
       "      <td>133.247762</td>\n",
       "      <td>135.342762</td>\n",
       "      <td>130.924343</td>\n",
       "      <td>132.878553</td>\n",
       "      <td>132.711932</td>\n",
       "      <td>3.239038e+07</td>\n",
       "    </tr>\n",
       "    <tr>\n",
       "      <th>44</th>\n",
       "      <td>2021</td>\n",
       "      <td>2</td>\n",
       "      <td>142.455264</td>\n",
       "      <td>144.981581</td>\n",
       "      <td>139.883685</td>\n",
       "      <td>142.772764</td>\n",
       "      <td>142.593730</td>\n",
       "      <td>3.515960e+07</td>\n",
       "    </tr>\n",
       "    <tr>\n",
       "      <th>45</th>\n",
       "      <td>2021</td>\n",
       "      <td>3</td>\n",
       "      <td>129.464566</td>\n",
       "      <td>131.339348</td>\n",
       "      <td>126.399783</td>\n",
       "      <td>128.761088</td>\n",
       "      <td>128.632550</td>\n",
       "      <td>3.325503e+07</td>\n",
       "    </tr>\n",
       "    <tr>\n",
       "      <th>46</th>\n",
       "      <td>2021</td>\n",
       "      <td>4</td>\n",
       "      <td>149.351905</td>\n",
       "      <td>151.970475</td>\n",
       "      <td>147.565716</td>\n",
       "      <td>150.102975</td>\n",
       "      <td>149.966495</td>\n",
       "      <td>3.199427e+07</td>\n",
       "    </tr>\n",
       "    <tr>\n",
       "      <th>47</th>\n",
       "      <td>2021</td>\n",
       "      <td>5</td>\n",
       "      <td>146.845248</td>\n",
       "      <td>149.006498</td>\n",
       "      <td>144.369124</td>\n",
       "      <td>146.881999</td>\n",
       "      <td>146.748446</td>\n",
       "      <td>3.527190e+07</td>\n",
       "    </tr>\n",
       "    <tr>\n",
       "      <th>48</th>\n",
       "      <td>2021</td>\n",
       "      <td>6</td>\n",
       "      <td>180.734203</td>\n",
       "      <td>183.930115</td>\n",
       "      <td>178.814091</td>\n",
       "      <td>182.186704</td>\n",
       "      <td>182.052082</td>\n",
       "      <td>4.669678e+07</td>\n",
       "    </tr>\n",
       "    <tr>\n",
       "      <th>49</th>\n",
       "      <td>2021</td>\n",
       "      <td>7</td>\n",
       "      <td>196.891904</td>\n",
       "      <td>199.282978</td>\n",
       "      <td>193.318334</td>\n",
       "      <td>196.463452</td>\n",
       "      <td>196.329805</td>\n",
       "      <td>3.725275e+07</td>\n",
       "    </tr>\n",
       "    <tr>\n",
       "      <th>50</th>\n",
       "      <td>2021</td>\n",
       "      <td>8</td>\n",
       "      <td>206.461364</td>\n",
       "      <td>209.686816</td>\n",
       "      <td>203.222726</td>\n",
       "      <td>207.121819</td>\n",
       "      <td>206.982712</td>\n",
       "      <td>2.916539e+07</td>\n",
       "    </tr>\n",
       "    <tr>\n",
       "      <th>51</th>\n",
       "      <td>2021</td>\n",
       "      <td>9</td>\n",
       "      <td>219.931428</td>\n",
       "      <td>221.948098</td>\n",
       "      <td>216.718572</td>\n",
       "      <td>219.365716</td>\n",
       "      <td>219.255148</td>\n",
       "      <td>2.380470e+07</td>\n",
       "    </tr>\n",
       "    <tr>\n",
       "      <th>52</th>\n",
       "      <td>2021</td>\n",
       "      <td>10</td>\n",
       "      <td>219.762380</td>\n",
       "      <td>223.523809</td>\n",
       "      <td>217.514762</td>\n",
       "      <td>221.104285</td>\n",
       "      <td>220.992836</td>\n",
       "      <td>2.367180e+07</td>\n",
       "    </tr>\n",
       "    <tr>\n",
       "      <th>53</th>\n",
       "      <td>2021</td>\n",
       "      <td>11</td>\n",
       "      <td>303.718571</td>\n",
       "      <td>311.609047</td>\n",
       "      <td>296.087142</td>\n",
       "      <td>303.885238</td>\n",
       "      <td>303.732061</td>\n",
       "      <td>5.148176e+07</td>\n",
       "    </tr>\n",
       "    <tr>\n",
       "      <th>54</th>\n",
       "      <td>2021</td>\n",
       "      <td>12</td>\n",
       "      <td>301.231361</td>\n",
       "      <td>307.395454</td>\n",
       "      <td>291.957271</td>\n",
       "      <td>299.307272</td>\n",
       "      <td>299.193035</td>\n",
       "      <td>5.026593e+07</td>\n",
       "    </tr>\n",
       "  </tbody>\n",
       "</table>\n",
       "</div>"
      ],
      "text/plain": [
       "    Years  Months        Open        High         Low       Close   Adj Close  \\\n",
       "43   2021       1  133.247762  135.342762  130.924343  132.878553  132.711932   \n",
       "44   2021       2  142.455264  144.981581  139.883685  142.772764  142.593730   \n",
       "45   2021       3  129.464566  131.339348  126.399783  128.761088  128.632550   \n",
       "46   2021       4  149.351905  151.970475  147.565716  150.102975  149.966495   \n",
       "47   2021       5  146.845248  149.006498  144.369124  146.881999  146.748446   \n",
       "48   2021       6  180.734203  183.930115  178.814091  182.186704  182.052082   \n",
       "49   2021       7  196.891904  199.282978  193.318334  196.463452  196.329805   \n",
       "50   2021       8  206.461364  209.686816  203.222726  207.121819  206.982712   \n",
       "51   2021       9  219.931428  221.948098  216.718572  219.365716  219.255148   \n",
       "52   2021      10  219.762380  223.523809  217.514762  221.104285  220.992836   \n",
       "53   2021      11  303.718571  311.609047  296.087142  303.885238  303.732061   \n",
       "54   2021      12  301.231361  307.395454  291.957271  299.307272  299.193035   \n",
       "\n",
       "          Volume  \n",
       "43  3.239038e+07  \n",
       "44  3.515960e+07  \n",
       "45  3.325503e+07  \n",
       "46  3.199427e+07  \n",
       "47  3.527190e+07  \n",
       "48  4.669678e+07  \n",
       "49  3.725275e+07  \n",
       "50  2.916539e+07  \n",
       "51  2.380470e+07  \n",
       "52  2.367180e+07  \n",
       "53  5.148176e+07  \n",
       "54  5.026593e+07  "
      ]
     },
     "execution_count": 49,
     "metadata": {},
     "output_type": "execute_result"
    }
   ],
   "source": [
    "df_2021 = df_month.loc[df_month[\"Years\"]== 2021]\n",
    "df_2021"
   ]
  },
  {
   "cell_type": "markdown",
   "id": "a6905e4b",
   "metadata": {},
   "source": [
    "##### Average High and Low price monthly:"
   ]
  },
  {
   "cell_type": "code",
   "execution_count": 50,
   "id": "2eff8cbf",
   "metadata": {},
   "outputs": [
    {
     "data": {
      "text/plain": [
       "<AxesSubplot:xlabel='Months'>"
      ]
     },
     "execution_count": 50,
     "metadata": {},
     "output_type": "execute_result"
    },
    {
     "data": {
      "image/png": "[encoded data removed]",
      "text/plain": [
       "<Figure size 432x288 with 1 Axes>"
      ]
     },
     "metadata": {
      "needs_background": "light"
     },
     "output_type": "display_data"
    }
   ],
   "source": [
    "df_2021_avg_HL = df_2021[[\"Months\", \"High\", \"Low\"]]\n",
    "df_2021_avg_HL.plot.bar(x = \"Months\")"
   ]
  },
  {
   "cell_type": "markdown",
   "id": "7ba457ec",
   "metadata": {},
   "source": [
    "##### Average Open and Close price monthly:"
   ]
  },
  {
   "cell_type": "code",
   "execution_count": 51,
   "id": "6dc48d69",
   "metadata": {
    "scrolled": true
   },
   "outputs": [
    {
     "data": {
      "text/plain": [
       "<AxesSubplot:xlabel='Months'>"
      ]
     },
     "execution_count": 51,
     "metadata": {},
     "output_type": "execute_result"
    },
    {
     "data": {
      "image/png": "[encoded data removed]",
      "text/plain": [
       "<Figure size 432x288 with 1 Axes>"
      ]
     },
     "metadata": {
      "needs_background": "light"
     },
     "output_type": "display_data"
    }
   ],
   "source": [
    "df_2021_avg_OC = df_2021[[\"Months\", \"Open\", \"Close\"]]\n",
    "df_2021_avg_OC.plot.bar(x = \"Months\")"
   ]
  },
  {
   "cell_type": "markdown",
   "id": "3ee47497",
   "metadata": {},
   "source": [
    "##### Total Stock bought :"
   ]
  },
  {
   "cell_type": "code",
   "execution_count": 59,
   "id": "54ffda1f",
   "metadata": {},
   "outputs": [
    {
     "name": "stdout",
     "output_type": "stream",
     "text": [
      "The total number of stock bought in 2017 are 9060882200\n"
     ]
    }
   ],
   "source": [
    "total_2021 = df[\"Volume\"][df[\"Years\"]==2021].sum()\n",
    "print(\"The total number of stock bought in 2017 are\",total_2021)"
   ]
  },
  {
   "cell_type": "markdown",
   "id": "84b0ab15",
   "metadata": {},
   "source": [
    "# Per year Analysis:"
   ]
  },
  {
   "cell_type": "markdown",
   "id": "19a6e141",
   "metadata": {},
   "source": [
    "### For year 2017"
   ]
  },
  {
   "cell_type": "code",
   "execution_count": 72,
   "id": "efca96d0",
   "metadata": {},
   "outputs": [
    {
     "data": {
      "text/html": [
       "<div>\n",
       "<style scoped>\n",
       "    .dataframe tbody tr th:only-of-type {\n",
       "        vertical-align: middle;\n",
       "    }\n",
       "\n",
       "    .dataframe tbody tr th {\n",
       "        vertical-align: top;\n",
       "    }\n",
       "\n",
       "    .dataframe thead th {\n",
       "        text-align: right;\n",
       "    }\n",
       "</style>\n",
       "<table border=\"1\" class=\"dataframe\">\n",
       "  <thead>\n",
       "    <tr style=\"text-align: right;\">\n",
       "      <th></th>\n",
       "      <th>Years</th>\n",
       "      <th>Months</th>\n",
       "      <th>Volume</th>\n",
       "    </tr>\n",
       "  </thead>\n",
       "  <tbody>\n",
       "    <tr>\n",
       "      <th>0</th>\n",
       "      <td>2017</td>\n",
       "      <td>6</td>\n",
       "      <td>1541133600</td>\n",
       "    </tr>\n",
       "    <tr>\n",
       "      <th>1</th>\n",
       "      <td>2017</td>\n",
       "      <td>7</td>\n",
       "      <td>1549101600</td>\n",
       "    </tr>\n",
       "    <tr>\n",
       "      <th>2</th>\n",
       "      <td>2017</td>\n",
       "      <td>8</td>\n",
       "      <td>1472821600</td>\n",
       "    </tr>\n",
       "    <tr>\n",
       "      <th>3</th>\n",
       "      <td>2017</td>\n",
       "      <td>9</td>\n",
       "      <td>1444733600</td>\n",
       "    </tr>\n",
       "    <tr>\n",
       "      <th>4</th>\n",
       "      <td>2017</td>\n",
       "      <td>10</td>\n",
       "      <td>1142266400</td>\n",
       "    </tr>\n",
       "    <tr>\n",
       "      <th>5</th>\n",
       "      <td>2017</td>\n",
       "      <td>11</td>\n",
       "      <td>1183089600</td>\n",
       "    </tr>\n",
       "    <tr>\n",
       "      <th>6</th>\n",
       "      <td>2017</td>\n",
       "      <td>12</td>\n",
       "      <td>1011221600</td>\n",
       "    </tr>\n",
       "  </tbody>\n",
       "</table>\n",
       "</div>"
      ],
      "text/plain": [
       "   Years  Months      Volume\n",
       "0   2017       6  1541133600\n",
       "1   2017       7  1549101600\n",
       "2   2017       8  1472821600\n",
       "3   2017       9  1444733600\n",
       "4   2017      10  1142266400\n",
       "5   2017      11  1183089600\n",
       "6   2017      12  1011221600"
      ]
     },
     "execution_count": 72,
     "metadata": {},
     "output_type": "execute_result"
    }
   ],
   "source": [
    "df_vol17 = df_month_stock.loc[df_month_stock[\"Years\"]==2017]\n",
    "df_vol17"
   ]
  },
  {
   "cell_type": "code",
   "execution_count": 73,
   "id": "9a0a95a3",
   "metadata": {},
   "outputs": [
    {
     "data": {
      "text/plain": [
       "<AxesSubplot:xlabel='Months'>"
      ]
     },
     "execution_count": 73,
     "metadata": {},
     "output_type": "execute_result"
    },
    {
     "data": {
      "image/png": "[encoded data removed]",
      "text/plain": [
       "<Figure size 432x288 with 1 Axes>"
      ]
     },
     "metadata": {
      "needs_background": "light"
     },
     "output_type": "display_data"
    }
   ],
   "source": [
    "df_vol17.plot.bar(x = \"Months\")"
   ]
  },
  {
   "cell_type": "code",
   "execution_count": null,
   "id": "229fa7fa",
   "metadata": {},
   "outputs": [],
   "source": []
  },
  {
   "cell_type": "markdown",
   "id": "46112635",
   "metadata": {},
   "source": [
    "### For year 2018"
   ]
  },
  {
   "cell_type": "code",
   "execution_count": 74,
   "id": "894b0014",
   "metadata": {},
   "outputs": [
    {
     "data": {
      "text/html": [
       "<div>\n",
       "<style scoped>\n",
       "    .dataframe tbody tr th:only-of-type {\n",
       "        vertical-align: middle;\n",
       "    }\n",
       "\n",
       "    .dataframe tbody tr th {\n",
       "        vertical-align: top;\n",
       "    }\n",
       "\n",
       "    .dataframe thead th {\n",
       "        text-align: right;\n",
       "    }\n",
       "</style>\n",
       "<table border=\"1\" class=\"dataframe\">\n",
       "  <thead>\n",
       "    <tr style=\"text-align: right;\">\n",
       "      <th></th>\n",
       "      <th>Years</th>\n",
       "      <th>Months</th>\n",
       "      <th>Volume</th>\n",
       "    </tr>\n",
       "  </thead>\n",
       "  <tbody>\n",
       "    <tr>\n",
       "      <th>7</th>\n",
       "      <td>2018</td>\n",
       "      <td>1</td>\n",
       "      <td>1145621600</td>\n",
       "    </tr>\n",
       "    <tr>\n",
       "      <th>8</th>\n",
       "      <td>2018</td>\n",
       "      <td>2</td>\n",
       "      <td>1491552800</td>\n",
       "    </tr>\n",
       "    <tr>\n",
       "      <th>9</th>\n",
       "      <td>2018</td>\n",
       "      <td>3</td>\n",
       "      <td>1411844000</td>\n",
       "    </tr>\n",
       "    <tr>\n",
       "      <th>10</th>\n",
       "      <td>2018</td>\n",
       "      <td>4</td>\n",
       "      <td>1114400800</td>\n",
       "    </tr>\n",
       "    <tr>\n",
       "      <th>11</th>\n",
       "      <td>2018</td>\n",
       "      <td>5</td>\n",
       "      <td>1197824000</td>\n",
       "    </tr>\n",
       "    <tr>\n",
       "      <th>12</th>\n",
       "      <td>2018</td>\n",
       "      <td>6</td>\n",
       "      <td>878554000</td>\n",
       "    </tr>\n",
       "    <tr>\n",
       "      <th>13</th>\n",
       "      <td>2018</td>\n",
       "      <td>7</td>\n",
       "      <td>632187600</td>\n",
       "    </tr>\n",
       "    <tr>\n",
       "      <th>14</th>\n",
       "      <td>2018</td>\n",
       "      <td>8</td>\n",
       "      <td>1091783600</td>\n",
       "    </tr>\n",
       "    <tr>\n",
       "      <th>15</th>\n",
       "      <td>2018</td>\n",
       "      <td>9</td>\n",
       "      <td>634020000</td>\n",
       "    </tr>\n",
       "    <tr>\n",
       "      <th>16</th>\n",
       "      <td>2018</td>\n",
       "      <td>10</td>\n",
       "      <td>1297797600</td>\n",
       "    </tr>\n",
       "    <tr>\n",
       "      <th>17</th>\n",
       "      <td>2018</td>\n",
       "      <td>11</td>\n",
       "      <td>1616234000</td>\n",
       "    </tr>\n",
       "    <tr>\n",
       "      <th>18</th>\n",
       "      <td>2018</td>\n",
       "      <td>12</td>\n",
       "      <td>1245140800</td>\n",
       "    </tr>\n",
       "  </tbody>\n",
       "</table>\n",
       "</div>"
      ],
      "text/plain": [
       "    Years  Months      Volume\n",
       "7    2018       1  1145621600\n",
       "8    2018       2  1491552800\n",
       "9    2018       3  1411844000\n",
       "10   2018       4  1114400800\n",
       "11   2018       5  1197824000\n",
       "12   2018       6   878554000\n",
       "13   2018       7   632187600\n",
       "14   2018       8  1091783600\n",
       "15   2018       9   634020000\n",
       "16   2018      10  1297797600\n",
       "17   2018      11  1616234000\n",
       "18   2018      12  1245140800"
      ]
     },
     "execution_count": 74,
     "metadata": {},
     "output_type": "execute_result"
    }
   ],
   "source": [
    "df_vol18 = df_month_stock.loc[df_month_stock[\"Years\"]==2018]\n",
    "df_vol18"
   ]
  },
  {
   "cell_type": "code",
   "execution_count": 75,
   "id": "04d2104d",
   "metadata": {},
   "outputs": [
    {
     "data": {
      "text/plain": [
       "<AxesSubplot:xlabel='Months'>"
      ]
     },
     "execution_count": 75,
     "metadata": {},
     "output_type": "execute_result"
    },
    {
     "data": {
      "image/png": "[encoded data removed]",
      "text/plain": [
       "<Figure size 432x288 with 1 Axes>"
      ]
     },
     "metadata": {
      "needs_background": "light"
     },
     "output_type": "display_data"
    }
   ],
   "source": [
    "df_vol18.plot.bar(x = \"Months\")"
   ]
  },
  {
   "cell_type": "code",
   "execution_count": null,
   "id": "fa59350b",
   "metadata": {},
   "outputs": [],
   "source": []
  }
 ],
 "metadata": {
  "kernelspec": {
   "display_name": "Python 3 (ipykernel)",
   "language": "python",
   "name": "python3"
  },
  "language_info": {
   "codemirror_mode": {
    "name": "ipython",
    "version": 3
   },
   "file_extension": ".py",
   "mimetype": "text/x-python",
   "name": "python",
   "nbconvert_exporter": "python",
   "pygments_lexer": "ipython3",
   "version": "3.9.12"
  }
 },
 "nbformat": 4,
 "nbformat_minor": 5
}
